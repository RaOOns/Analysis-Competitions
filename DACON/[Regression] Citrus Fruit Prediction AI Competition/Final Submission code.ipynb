{
 "cells": [
  {
   "cell_type": "markdown",
   "id": "7b152ec9-2129-4875-a091-cf2459436364",
   "metadata": {},
   "source": [
    "# **Import packages**"
   ]
  },
  {
   "cell_type": "code",
   "execution_count": 1,
   "id": "6a6a2f26-ce53-43ea-a2d1-66bd1c652f3e",
   "metadata": {},
   "outputs": [],
   "source": [
    "# !pip install yellowbrick"
   ]
  },
  {
   "cell_type": "code",
   "execution_count": 22,
   "id": "flying-loading",
   "metadata": {},
   "outputs": [],
   "source": [
    "import pandas as pd\n",
    "import numpy as np\n",
    "import re\n",
    "from datetime import datetime, timedelta\n",
    "import time\n",
    "from tqdm.notebook import tqdm\n",
    "\n",
    "import matplotlib.pyplot as plt\n",
    "import matplotlib.colors as mcolors\n",
    "import seaborn as sns\n",
    "\n",
    "from yellowbrick.target import FeatureCorrelation\n",
    "\n",
    "from sklearn.model_selection import train_test_split\n",
    "from sklearn.preprocessing import StandardScaler\n",
    "from sklearn.cross_decomposition import PLSRegression\n",
    "from sklearn.decomposition import PCA\n",
    "from sklearn.metrics import mean_absolute_error\n",
    "from sklearn.ensemble import RandomForestClassifier, RandomForestRegressor, ExtraTreesClassifier, ExtraTreesRegressor, GradientBoostingRegressor\n",
    "from catboost import CatBoostRegressor, CatBoostClassifier\n",
    "from xgboost import XGBRegressor, XGBClassifier\n",
    "from lightgbm import LGBMRegressor, LGBMClassifier\n",
    "\n",
    "import warnings\n",
    "warnings.filterwarnings(action='ignore')"
   ]
  },
  {
   "cell_type": "markdown",
   "id": "caae9dd4-d44e-4cc2-9337-65001ba09266",
   "metadata": {},
   "source": [
    "# **Data**"
   ]
  },
  {
   "cell_type": "code",
   "execution_count": 3,
   "id": "guilty-external",
   "metadata": {},
   "outputs": [
    {
     "name": "stdout",
     "output_type": "stream",
     "text": [
      "(2207, 183) (2208, 182)\n"
     ]
    }
   ],
   "source": [
    "train = pd.read_csv(\"../DAT/train.csv\")\n",
    "test = pd.read_csv(\"../DAT/test.csv\")\n",
    "train = train.drop(['ID'], axis=1)\n",
    "test = test.drop(['ID'], axis=1)\n",
    "print(train.shape, test.shape)"
   ]
  },
  {
   "cell_type": "code",
   "execution_count": 4,
   "id": "fancy-stocks",
   "metadata": {},
   "outputs": [
    {
     "data": {
      "text/html": [
       "<div>\n",
       "<style scoped>\n",
       "    .dataframe tbody tr th:only-of-type {\n",
       "        vertical-align: middle;\n",
       "    }\n",
       "\n",
       "    .dataframe tbody tr th {\n",
       "        vertical-align: top;\n",
       "    }\n",
       "\n",
       "    .dataframe thead th {\n",
       "        text-align: right;\n",
       "    }\n",
       "</style>\n",
       "<table border=\"1\" class=\"dataframe\">\n",
       "  <thead>\n",
       "    <tr style=\"text-align: right;\">\n",
       "      <th></th>\n",
       "      <th>착과량(int)</th>\n",
       "      <th>수고(m)</th>\n",
       "      <th>수관폭1(min)</th>\n",
       "      <th>수관폭2(max)</th>\n",
       "      <th>수관폭평균</th>\n",
       "      <th>2022-09-01 새순</th>\n",
       "      <th>2022-09-02 새순</th>\n",
       "      <th>2022-09-03 새순</th>\n",
       "      <th>2022-09-04 새순</th>\n",
       "      <th>2022-09-05 새순</th>\n",
       "      <th>...</th>\n",
       "      <th>2022-11-19 엽록소</th>\n",
       "      <th>2022-11-20 엽록소</th>\n",
       "      <th>2022-11-21 엽록소</th>\n",
       "      <th>2022-11-22 엽록소</th>\n",
       "      <th>2022-11-23 엽록소</th>\n",
       "      <th>2022-11-24 엽록소</th>\n",
       "      <th>2022-11-25 엽록소</th>\n",
       "      <th>2022-11-26 엽록소</th>\n",
       "      <th>2022-11-27 엽록소</th>\n",
       "      <th>2022-11-28 엽록소</th>\n",
       "    </tr>\n",
       "  </thead>\n",
       "  <tbody>\n",
       "    <tr>\n",
       "      <th>0</th>\n",
       "      <td>692</td>\n",
       "      <td>275.0</td>\n",
       "      <td>287.0</td>\n",
       "      <td>292.0</td>\n",
       "      <td>289.5</td>\n",
       "      <td>2.8</td>\n",
       "      <td>2.8</td>\n",
       "      <td>2.7</td>\n",
       "      <td>2.7</td>\n",
       "      <td>2.7</td>\n",
       "      <td>...</td>\n",
       "      <td>70.978249</td>\n",
       "      <td>70.876794</td>\n",
       "      <td>70.705253</td>\n",
       "      <td>70.559603</td>\n",
       "      <td>70.427356</td>\n",
       "      <td>70.340491</td>\n",
       "      <td>70.293830</td>\n",
       "      <td>70.262422</td>\n",
       "      <td>70.169841</td>\n",
       "      <td>70.043251</td>\n",
       "    </tr>\n",
       "    <tr>\n",
       "      <th>1</th>\n",
       "      <td>534</td>\n",
       "      <td>293.0</td>\n",
       "      <td>284.0</td>\n",
       "      <td>336.0</td>\n",
       "      <td>310.0</td>\n",
       "      <td>3.3</td>\n",
       "      <td>3.3</td>\n",
       "      <td>3.3</td>\n",
       "      <td>3.2</td>\n",
       "      <td>3.2</td>\n",
       "      <td>...</td>\n",
       "      <td>71.535483</td>\n",
       "      <td>71.382303</td>\n",
       "      <td>71.253604</td>\n",
       "      <td>71.092665</td>\n",
       "      <td>70.955608</td>\n",
       "      <td>70.796630</td>\n",
       "      <td>70.597550</td>\n",
       "      <td>70.565088</td>\n",
       "      <td>70.560502</td>\n",
       "      <td>70.427600</td>\n",
       "    </tr>\n",
       "    <tr>\n",
       "      <th>2</th>\n",
       "      <td>634</td>\n",
       "      <td>300.0</td>\n",
       "      <td>392.0</td>\n",
       "      <td>450.0</td>\n",
       "      <td>421.0</td>\n",
       "      <td>3.0</td>\n",
       "      <td>2.9</td>\n",
       "      <td>2.9</td>\n",
       "      <td>2.9</td>\n",
       "      <td>2.9</td>\n",
       "      <td>...</td>\n",
       "      <td>71.279804</td>\n",
       "      <td>71.199570</td>\n",
       "      <td>71.144020</td>\n",
       "      <td>71.026740</td>\n",
       "      <td>70.920038</td>\n",
       "      <td>70.876723</td>\n",
       "      <td>70.710129</td>\n",
       "      <td>70.595971</td>\n",
       "      <td>70.418203</td>\n",
       "      <td>70.399578</td>\n",
       "    </tr>\n",
       "  </tbody>\n",
       "</table>\n",
       "<p>3 rows × 183 columns</p>\n",
       "</div>"
      ],
      "text/plain": [
       "   착과량(int)  수고(m)  수관폭1(min)  수관폭2(max)  수관폭평균  2022-09-01 새순  2022-09-02 새순  \\\n",
       "0       692  275.0      287.0      292.0  289.5            2.8            2.8   \n",
       "1       534  293.0      284.0      336.0  310.0            3.3            3.3   \n",
       "2       634  300.0      392.0      450.0  421.0            3.0            2.9   \n",
       "\n",
       "   2022-09-03 새순  2022-09-04 새순  2022-09-05 새순  ...  2022-11-19 엽록소  \\\n",
       "0            2.7            2.7            2.7  ...       70.978249   \n",
       "1            3.3            3.2            3.2  ...       71.535483   \n",
       "2            2.9            2.9            2.9  ...       71.279804   \n",
       "\n",
       "   2022-11-20 엽록소  2022-11-21 엽록소  2022-11-22 엽록소  2022-11-23 엽록소  \\\n",
       "0       70.876794       70.705253       70.559603       70.427356   \n",
       "1       71.382303       71.253604       71.092665       70.955608   \n",
       "2       71.199570       71.144020       71.026740       70.920038   \n",
       "\n",
       "   2022-11-24 엽록소  2022-11-25 엽록소  2022-11-26 엽록소  2022-11-27 엽록소  \\\n",
       "0       70.340491       70.293830       70.262422       70.169841   \n",
       "1       70.796630       70.597550       70.565088       70.560502   \n",
       "2       70.876723       70.710129       70.595971       70.418203   \n",
       "\n",
       "   2022-11-28 엽록소  \n",
       "0       70.043251  \n",
       "1       70.427600  \n",
       "2       70.399578  \n",
       "\n",
       "[3 rows x 183 columns]"
      ]
     },
     "execution_count": 4,
     "metadata": {},
     "output_type": "execute_result"
    }
   ],
   "source": [
    "train.head(3)"
   ]
  },
  {
   "cell_type": "code",
   "execution_count": 5,
   "id": "disturbed-bullet",
   "metadata": {},
   "outputs": [
    {
     "name": "stdout",
     "output_type": "stream",
     "text": [
      "train null count: 0개 \n",
      "test null count: 0개 \n"
     ]
    }
   ],
   "source": [
    "print(\"train null count: %d개 \" % (train.isnull().sum().sum()))\n",
    "print(\"test null count: %d개 \" % (test.isnull().sum().sum()))"
   ]
  },
  {
   "cell_type": "code",
   "execution_count": 6,
   "id": "least-carolina",
   "metadata": {},
   "outputs": [
    {
     "name": "stdout",
     "output_type": "stream",
     "text": [
      "1 4 89 89\n"
     ]
    }
   ],
   "source": [
    "target = list([\"착과량(int)\"])\n",
    "state = train.columns[1:5].to_list()\n",
    "sprout = train.filter(regex = \"새순\").columns.to_list()\n",
    "chla = train.filter(regex = \"엽록소\").columns.to_list()\n",
    "print(len(target), len(state), len(sprout), len(chla))"
   ]
  },
  {
   "cell_type": "markdown",
   "id": "00a5a856-c103-477c-9f8d-85f31482744c",
   "metadata": {},
   "source": [
    "# **파생변수 생성**"
   ]
  },
  {
   "cell_type": "markdown",
   "id": "9119751c-7969-4a98-b252-d2b27d457775",
   "metadata": {},
   "source": [
    "## **_범주형 변수 생성**"
   ]
  },
  {
   "cell_type": "code",
   "execution_count": 7,
   "id": "4252e5b0-289d-4e90-9579-717e96e4beb0",
   "metadata": {},
   "outputs": [
    {
     "data": {
      "image/png": "[encoded data removed]",
      "text/plain": [
       "<Figure size 800x400 with 1 Axes>"
      ]
     },
     "metadata": {},
     "output_type": "display_data"
    }
   ],
   "source": [
    "plt.figure(figsize = (8, 4))\n",
    "plt.scatter(train[\"2022-09-01 새순\"], train[target]);"
   ]
  },
  {
   "cell_type": "code",
   "execution_count": 8,
   "id": "930318d0-08cb-49f7-bc8b-f6e1543ac110",
   "metadata": {},
   "outputs": [],
   "source": [
    "### 첫 날 새순 크기에 따른 범주형 변수 생성\n",
    "    # 착과량 범위가 큰 기준으로 분할\n",
    "value_range = {}\n",
    "for value_ in train[sprout[0]].unique():\n",
    "    range_ = train[train[sprout[0]] == value_][target].max() - train[train[sprout[0]] == value_][target].min()\n",
    "    value_range[value_] = range_[0]"
   ]
  },
  {
   "cell_type": "code",
   "execution_count": 9,
   "id": "adfc7115-bfa4-4950-9a19-dd8681dbfbba",
   "metadata": {},
   "outputs": [],
   "source": [
    "cond_base = sorted(dict(sorted(value_range.items(), key = lambda item: item[1], reverse = True)[:7]).keys())"
   ]
  },
  {
   "cell_type": "code",
   "execution_count": 10,
   "id": "noticed-newcastle",
   "metadata": {},
   "outputs": [],
   "source": [
    "def sprout_cat_(cond):\n",
    "    cond_list = [(cond_base[0] < cond) & (cond <= cond_base[1]), \n",
    "                 (cond_base[1] < cond) & (cond <= cond_base[2]), \n",
    "                 (cond_base[2] < cond) & (cond <= cond_base[3]), \n",
    "                 (cond_base[3] < cond) & (cond <= cond_base[4]), \n",
    "                 (cond_base[4] < cond) & (cond <= cond_base[5]), \n",
    "                 (cond_base[5] < cond) & (cond <= cond_base[6]), \n",
    "                 (cond_base[6] < cond)]\n",
    "\n",
    "    sprout_cat = np.select(cond_list, list(range(1,8)), 0)\n",
    "    return sprout_cat"
   ]
  },
  {
   "cell_type": "code",
   "execution_count": 11,
   "id": "cb82575f-9bba-4bc8-9ed3-c2616bd47663",
   "metadata": {},
   "outputs": [],
   "source": [
    "train[\"sprout_cat\"] = sprout_cat_(train[sprout[0]].values)\n",
    "test[\"sprout_cat\"] = sprout_cat_(test[sprout[0]].values)"
   ]
  },
  {
   "cell_type": "markdown",
   "id": "0b686049-b25b-4f1d-9855-b0fed9a947a5",
   "metadata": {},
   "source": [
    "## **_연속형 변수 생성**"
   ]
  },
  {
   "cell_type": "code",
   "execution_count": 12,
   "id": "numeric-annex",
   "metadata": {},
   "outputs": [],
   "source": [
    "train[\"sprout_diff\"] = train[sprout].iloc[:, 0] - train[sprout].iloc[:, -1]\n",
    "train[\"sprout_mean\"] = train[sprout].mean(axis = 1)\n",
    "train[\"chla_diff\"] = train[chla].iloc[:, 0] - train[chla].iloc[:, -1]\n",
    "train[\"chla_mean\"] = train[chla].mean(axis = 1)\n",
    "train[\"diff_ratio\"] = train[\"chla_diff\"] / train[\"sprout_diff\"]\n",
    "train[\"vol\"] = train[\"수고(m)\"] * train[\"수관폭1(min)\"] * train[\"수관폭2(max)\"]\n",
    "train[\"ratio1\"] = train[\"2022-09-01 새순\"] / train[\"chla_mean\"]\n",
    "train[\"ratio2\"] = train[\"2022-09-01 새순\"] / train[\"vol\"]\n",
    "\n",
    "test[\"sprout_diff\"] = test[sprout].mean(axis = 1)\n",
    "test[\"sprout_mean\"] = test[sprout].mean(axis = 1)\n",
    "test[\"chla_diff\"] = test[chla].iloc[:, 0] - test[chla].iloc[:, -1]\n",
    "test[\"chla_mean\"] = test[chla].mean(axis = 1)\n",
    "test[\"diff_ratio\"] = test[\"chla_diff\"] / test[\"sprout_diff\"]\n",
    "test[\"vol\"] = test[\"수고(m)\"] * test[\"수관폭1(min)\"] * test[\"수관폭2(max)\"]\n",
    "test[\"ratio1\"] = test[\"2022-09-01 새순\"] / test[\"chla_mean\"]\n",
    "test[\"ratio2\"] = test[\"2022-09-01 새순\"] / test[\"vol\"]"
   ]
  },
  {
   "cell_type": "code",
   "execution_count": 138,
   "id": "55e3ebda-ab05-470a-9567-d66eb813126c",
   "metadata": {},
   "outputs": [
    {
     "name": "stdout",
     "output_type": "stream",
     "text": [
      "(2207, 192) (2208, 191)\n"
     ]
    }
   ],
   "source": [
    "print(train.shape, test.shape)"
   ]
  },
  {
   "cell_type": "markdown",
   "id": "ceb6e1a6-79d0-4dd8-8aa7-78f6818376c2",
   "metadata": {},
   "source": [
    "# **Train/Valid split**"
   ]
  },
  {
   "cell_type": "code",
   "execution_count": 13,
   "id": "floral-partnership",
   "metadata": {},
   "outputs": [
    {
     "name": "stdout",
     "output_type": "stream",
     "text": [
      "(1544, 191) (663, 191) (1544, 1) (663, 1)\n"
     ]
    }
   ],
   "source": [
    "train_X, valid_X, train_y, valid_y = train_test_split(train.drop(columns = target), train[target], \n",
    "                                                      test_size = 0.3, shuffle = True, random_state = 717)\n",
    "\n",
    "train_X = train_X.reset_index(drop = True)\n",
    "train_y = train_y.reset_index(drop = True)\n",
    "valid_X = valid_X.reset_index(drop = True)\n",
    "valid_y = valid_y.reset_index(drop = True)\n",
    "\n",
    "print(train_X.shape, valid_X.shape, train_y.shape, valid_y.shape)"
   ]
  },
  {
   "cell_type": "markdown",
   "id": "11668847-4bec-489e-a3af-5403dcd58aeb",
   "metadata": {},
   "source": [
    "# **Preprocessing: PLS**"
   ]
  },
  {
   "cell_type": "code",
   "execution_count": 131,
   "id": "6ecf0a30-bc4e-4878-916e-9c53fffd10d3",
   "metadata": {},
   "outputs": [],
   "source": [
    "def pls_X(train_X, valid_X, train_y, comp = 20):\n",
    "    ### 표준화\n",
    "    std = StandardScaler().fit(train_X)\n",
    "    st_train_X = pd.DataFrame(std.transform(train_X), columns = train_X.columns)\n",
    "    st_valid_X = pd.DataFrame(std.transform(valid_X), columns = valid_X.columns)\n",
    "    std_y = (train_y - train_y.mean())/train_y.std()\n",
    "\n",
    "    comp = 20\n",
    "    ### Sprout PLS\n",
    "    pls_sprout = PLSRegression(n_components = comp).fit(st_train_X[sprout], std_y)\n",
    "    tr_pls_sprout_df = pd.DataFrame(pls_sprout.transform(st_train_X[sprout]), columns = [\"sprout pls\" + str(i+1) for i in range(comp)])\n",
    "    vd_pls_sprout_df = pd.DataFrame(pls_sprout.transform(st_valid_X[sprout]), columns = [\"sprout pls\" + str(i+1) for i in range(comp)])\n",
    "    # display(tr_pls_sprout_df.head(3))\n",
    "\n",
    "    ### Chla PLS\n",
    "    pls_chla = PLSRegression(n_components = comp).fit(st_train_X[chla], std_y)\n",
    "    tr_pls_chla_df = pd.DataFrame(pls_chla.transform(st_train_X[chla]), columns = [\"chla pls\" + str(i+1) for i in range(comp)])\n",
    "    vd_pls_chla_df = pd.DataFrame(pls_chla.transform(st_valid_X[chla]), columns = [\"chla pls\" + str(i+1) for i in range(comp)])\n",
    "    # display(tr_pls_chla_df.head(3))\n",
    "    \n",
    "    train_X_pls = pd.concat([st_train_X, tr_pls_sprout_df, tr_pls_chla_df], axis = 1)\n",
    "    valid_X_pls = pd.concat([st_valid_X, vd_pls_sprout_df, vd_pls_chla_df], axis = 1)\n",
    "    # print(train_X_pls.shape, valid_X_pls.shape)\n",
    "    \n",
    "    return train_X_pls, valid_X_pls"
   ]
  },
  {
   "cell_type": "code",
   "execution_count": 132,
   "id": "c9dd0eff-6e6b-4e08-9c54-29f0e351e299",
   "metadata": {},
   "outputs": [],
   "source": [
    "train_X_pls, valid_X_pls = pls_X(train_X, valid_X, train_y)"
   ]
  },
  {
   "cell_type": "code",
   "execution_count": 133,
   "id": "matched-vegetation",
   "metadata": {},
   "outputs": [],
   "source": [
    "# display(train_X_pls.head(3), valid_X_pls.head(3))"
   ]
  },
  {
   "cell_type": "markdown",
   "id": "9d7b736a-56de-47e7-8a67-10db3be71845",
   "metadata": {},
   "source": [
    "# **Modeling**"
   ]
  },
  {
   "cell_type": "markdown",
   "id": "4753d57c-42ac-4ce3-b14e-fd4b57235c73",
   "metadata": {},
   "source": [
    "## **_Evalutaion metric: NMAE**"
   ]
  },
  {
   "cell_type": "code",
   "execution_count": 134,
   "id": "4b423c0c-4314-48ed-a51a-243952c99a23",
   "metadata": {},
   "outputs": [],
   "source": [
    "def NMAE(true, pred):\n",
    "    mae = np.mean(np.abs(true-pred))\n",
    "    score = mae / np.mean(np.abs(true))\n",
    "    return score"
   ]
  },
  {
   "cell_type": "markdown",
   "id": "6a35b49e-b872-4d6c-a5b4-11e7594e4436",
   "metadata": {},
   "source": [
    "## **_Models**"
   ]
  },
  {
   "cell_type": "code",
   "execution_count": 135,
   "id": "0dcca8eb-ca1d-4aec-8d16-0531e4c18dd6",
   "metadata": {},
   "outputs": [],
   "source": [
    "SEED = 717\n",
    "model_dict = {}\n",
    "model_dict[\"RF\"] = RandomForestRegressor(random_state = SEED)\n",
    "model_dict[\"ET\"] = ExtraTreesRegressor(random_state = SEED)\n",
    "model_dict[\"LGBM\"] = LGBMRegressor(random_state = SEED)\n",
    "model_dict[\"XGB\"] = XGBRegressor(random_state = SEED)\n",
    "model_dict[\"GB\"] = GradientBoostingRegressor(random_state = SEED)\n",
    "model_dict[\"CAT\"] = CatBoostRegressor(random_state = SEED, silent = True, loss_function = \"MAE\")"
   ]
  },
  {
   "cell_type": "markdown",
   "id": "11d09f1a-3deb-4c3b-9e1e-f3309439b12c",
   "metadata": {},
   "source": [
    "## **_Fit and Predict**"
   ]
  },
  {
   "cell_type": "code",
   "execution_count": 23,
   "id": "f380effb-c8cb-4389-8d8b-aca27357a3a2",
   "metadata": {},
   "outputs": [
    {
     "data": {
      "application/json": {
       "ascii": false,
       "bar_format": null,
       "colour": null,
       "elapsed": 0.021465301513671875,
       "initial": 0,
       "n": 0,
       "ncols": null,
       "nrows": 49,
       "postfix": null,
       "prefix": "",
       "rate": null,
       "total": 6,
       "unit": "it",
       "unit_divisor": 1000,
       "unit_scale": false
      },
      "application/vnd.jupyter.widget-view+json": {
       "model_id": "edd107cca5fe4679bf5f0a50f0de67d5",
       "version_major": 2,
       "version_minor": 0
      },
      "text/plain": [
       "  0%|          | 0/6 [00:00<?, ?it/s]"
      ]
     },
     "metadata": {},
     "output_type": "display_data"
    },
    {
     "name": "stdout",
     "output_type": "stream",
     "text": [
      "RF NMAE: 0.0745| 소요시간: 62.0074sec\n",
      "ET NMAE: 0.0755| 소요시간: 14.8877sec\n",
      "LGBM NMAE: 0.0784| 소요시간: 1.3515sec\n",
      "XGB NMAE: 0.0798| 소요시간: 3.4773sec\n",
      "GB NMAE: 0.0756| 소요시간: 27.2161sec\n",
      "CAT NMAE: 0.0790| 소요시간: 34.1596sec\n"
     ]
    }
   ],
   "source": [
    "pred_dict = {}\n",
    "for name_, model_ in tqdm(model_dict.items()):\n",
    "    start_time = time.time()\n",
    "    model_fit = model_.fit(train_X_pls, train_y)\n",
    "    pred = model_fit.predict(valid_X_pls)\n",
    "    pred_dict[name_] = pred\n",
    "    print(\"%s NMAE: %.4f| 소요시간: %.4fsec\"% (name_, NMAE(np.ravel(valid_y), np.ravel(pred)), time.time()-start_time))"
   ]
  },
  {
   "cell_type": "markdown",
   "id": "af2301e3-3765-4b37-97ff-16ff9c5ee297",
   "metadata": {},
   "source": [
    "## **_Ensemble results**"
   ]
  },
  {
   "cell_type": "code",
   "execution_count": 126,
   "id": "06ad9ff7-c05b-47aa-9a3f-271a08828ab4",
   "metadata": {},
   "outputs": [],
   "source": [
    "def ensemble_result(pred_dict, true_y = valid_y, ascending = True):\n",
    "    import itertools\n",
    "\n",
    "    ensemble_df = pd.DataFrame()\n",
    "    arr_name = pred_dict.keys()\n",
    "    arr_value = pred_dict.values()\n",
    "\n",
    "    for i in range(1, len(arr_name)+1):\n",
    "        ncr_name = list(itertools.combinations(arr_name, i))\n",
    "        ncr_value = list(itertools.combinations(arr_value, i))\n",
    "        for j in range(len(ncr_name)):\n",
    "            pred_ens = np.mean(list(ncr_value[j]), axis = 0)       \n",
    "            ens_NMAE = NMAE(np.ravel(true_y), pred_ens)\n",
    "            ensemble_df[ncr_name[j]] = [np.round(ens_NMAE, 4)]\n",
    "\n",
    "\n",
    "    ensemble_df.index = [\"result\"]\n",
    "    ensemble_df = ensemble_df.T.sort_values(by = \"result\", ascending = ascending)\n",
    "    return ensemble_df"
   ]
  },
  {
   "cell_type": "code",
   "execution_count": 128,
   "id": "5a21a567-aeb0-4892-891d-a4fa80a78659",
   "metadata": {},
   "outputs": [
    {
     "data": {
      "text/html": [
       "<div>\n",
       "<style scoped>\n",
       "    .dataframe tbody tr th:only-of-type {\n",
       "        vertical-align: middle;\n",
       "    }\n",
       "\n",
       "    .dataframe tbody tr th {\n",
       "        vertical-align: top;\n",
       "    }\n",
       "\n",
       "    .dataframe thead th {\n",
       "        text-align: right;\n",
       "    }\n",
       "</style>\n",
       "<table border=\"1\" class=\"dataframe\">\n",
       "  <thead>\n",
       "    <tr style=\"text-align: right;\">\n",
       "      <th></th>\n",
       "      <th>result</th>\n",
       "    </tr>\n",
       "  </thead>\n",
       "  <tbody>\n",
       "    <tr>\n",
       "      <th>(RF, ET, GB)</th>\n",
       "      <td>0.0741</td>\n",
       "    </tr>\n",
       "    <tr>\n",
       "      <th>(RF, GB)</th>\n",
       "      <td>0.0744</td>\n",
       "    </tr>\n",
       "    <tr>\n",
       "      <th>(RF, ET)</th>\n",
       "      <td>0.0744</td>\n",
       "    </tr>\n",
       "  </tbody>\n",
       "</table>\n",
       "</div>"
      ],
      "text/plain": [
       "              result\n",
       "(RF, ET, GB)  0.0741\n",
       "(RF, GB)      0.0744\n",
       "(RF, ET)      0.0744"
      ]
     },
     "execution_count": 128,
     "metadata": {},
     "output_type": "execute_result"
    }
   ],
   "source": [
    "ensemble_df = ensemble_result(pred_dict)\n",
    "ensemble_df.head(3)"
   ]
  },
  {
   "cell_type": "markdown",
   "id": "11378b86-be7f-4b78-ba36-e9e55a0a163b",
   "metadata": {},
   "source": [
    "# **Test**"
   ]
  },
  {
   "cell_type": "markdown",
   "id": "0cf89069-1de1-46ae-85f8-f7101bb698ca",
   "metadata": {},
   "source": [
    "## **_Test predict**"
   ]
  },
  {
   "cell_type": "code",
   "execution_count": 137,
   "id": "7957d955-89bd-4a3e-8bf0-adc7e25b857e",
   "metadata": {},
   "outputs": [
    {
     "name": "stdout",
     "output_type": "stream",
     "text": [
      "(2207, 191) (2207, 1)\n"
     ]
    }
   ],
   "source": [
    "Train_X = train.drop(columns = target)\n",
    "Train_y = train[target]\n",
    "print(Train_X.shape, Train_y.shape)"
   ]
  },
  {
   "cell_type": "code",
   "execution_count": 140,
   "id": "f5bebeaa-2684-4159-8967-a69d837a8cc9",
   "metadata": {},
   "outputs": [
    {
     "name": "stdout",
     "output_type": "stream",
     "text": [
      "(2207, 231) (2208, 231)\n"
     ]
    }
   ],
   "source": [
    "Train_X_pls, test_pls = pls_X(Train_X, test, Train_y)\n",
    "print(Train_X_pls.shape, test_pls.shape)"
   ]
  },
  {
   "cell_type": "code",
   "execution_count": 149,
   "id": "bb205901-210b-4743-a064-dd65a99e4a84",
   "metadata": {},
   "outputs": [],
   "source": [
    "Pred_list = []\n",
    "for model_name in ensemble_df.index[0]:\n",
    "    model_fit = model_dict[model_name].fit(Train_X_pls, Train_y)\n",
    "    pred = model_fit.predict(test_pls)\n",
    "    Pred_list.append(pred)   "
   ]
  },
  {
   "cell_type": "code",
   "execution_count": 150,
   "id": "53aafb8a-4b1c-4796-bb86-b84f70d69db2",
   "metadata": {},
   "outputs": [
    {
     "name": "stdout",
     "output_type": "stream",
     "text": [
      "('RF', 'ET', 'GB') [254.70382268 758.8458665  169.85515944 ... 368.92318109 248.1709331\n",
      " 112.10309388]\n"
     ]
    }
   ],
   "source": [
    "Final_pred = np.mean(Pred_list, axis = 0)\n",
    "print(ensemble_df.index[0], Final_pred) "
   ]
  },
  {
   "cell_type": "markdown",
   "id": "f9fe2c41-21fe-4873-87b9-bd7e61874883",
   "metadata": {},
   "source": [
    "## **_Submission**"
   ]
  },
  {
   "cell_type": "code",
   "execution_count": 151,
   "id": "74cf5d34-4622-4c80-9481-887b073caf88",
   "metadata": {},
   "outputs": [],
   "source": [
    "sample_submission = pd.read_csv('../DAT/sample_submission.csv')"
   ]
  },
  {
   "cell_type": "code",
   "execution_count": 152,
   "id": "6b66ebbc-cb5a-45f7-91ea-7e4a9ff2571a",
   "metadata": {},
   "outputs": [],
   "source": [
    "sample_submission['착과량(int)'] = Final_pred"
   ]
  },
  {
   "cell_type": "code",
   "execution_count": 153,
   "id": "1860f79c-e94f-43e3-8240-36393f483fd4",
   "metadata": {},
   "outputs": [
    {
     "data": {
      "text/html": [
       "<div>\n",
       "<style scoped>\n",
       "    .dataframe tbody tr th:only-of-type {\n",
       "        vertical-align: middle;\n",
       "    }\n",
       "\n",
       "    .dataframe tbody tr th {\n",
       "        vertical-align: top;\n",
       "    }\n",
       "\n",
       "    .dataframe thead th {\n",
       "        text-align: right;\n",
       "    }\n",
       "</style>\n",
       "<table border=\"1\" class=\"dataframe\">\n",
       "  <thead>\n",
       "    <tr style=\"text-align: right;\">\n",
       "      <th></th>\n",
       "      <th>ID</th>\n",
       "      <th>착과량(int)</th>\n",
       "    </tr>\n",
       "  </thead>\n",
       "  <tbody>\n",
       "    <tr>\n",
       "      <th>0</th>\n",
       "      <td>TEST_0000</td>\n",
       "      <td>254.703823</td>\n",
       "    </tr>\n",
       "    <tr>\n",
       "      <th>1</th>\n",
       "      <td>TEST_0001</td>\n",
       "      <td>758.845866</td>\n",
       "    </tr>\n",
       "    <tr>\n",
       "      <th>2</th>\n",
       "      <td>TEST_0002</td>\n",
       "      <td>169.855159</td>\n",
       "    </tr>\n",
       "    <tr>\n",
       "      <th>3</th>\n",
       "      <td>TEST_0003</td>\n",
       "      <td>466.593385</td>\n",
       "    </tr>\n",
       "    <tr>\n",
       "      <th>4</th>\n",
       "      <td>TEST_0004</td>\n",
       "      <td>685.768679</td>\n",
       "    </tr>\n",
       "  </tbody>\n",
       "</table>\n",
       "</div>"
      ],
      "text/plain": [
       "          ID    착과량(int)\n",
       "0  TEST_0000  254.703823\n",
       "1  TEST_0001  758.845866\n",
       "2  TEST_0002  169.855159\n",
       "3  TEST_0003  466.593385\n",
       "4  TEST_0004  685.768679"
      ]
     },
     "execution_count": 153,
     "metadata": {},
     "output_type": "execute_result"
    }
   ],
   "source": [
    "sample_submission.head()"
   ]
  },
  {
   "cell_type": "code",
   "execution_count": 178,
   "id": "0feef5e9-ea22-4969-a1bc-41cc001bc0df",
   "metadata": {},
   "outputs": [],
   "source": [
    "# sample_submission.to_csv(\"../OUT/\"+ str(datetime.today())[:10] + \" final.csv\", index = False)"
   ]
  }
 ],
 "metadata": {
  "kernelspec": {
   "display_name": "Python 3 (ipykernel)",
   "language": "python",
   "name": "python3"
  },
  "language_info": {
   "codemirror_mode": {
    "name": "ipython",
    "version": 3
   },
   "file_extension": ".py",
   "mimetype": "text/x-python",
   "name": "python",
   "nbconvert_exporter": "python",
   "pygments_lexer": "ipython3",
   "version": "3.8.7"
  }
 },
 "nbformat": 4,
 "nbformat_minor": 5
}
