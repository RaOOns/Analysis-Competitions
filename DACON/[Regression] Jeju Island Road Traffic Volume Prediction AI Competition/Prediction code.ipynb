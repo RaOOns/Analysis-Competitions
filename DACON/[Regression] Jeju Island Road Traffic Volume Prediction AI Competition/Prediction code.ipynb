{
 "cells": [
  {
   "cell_type": "code",
   "execution_count": 46,
   "id": "closed-insulin",
   "metadata": {},
   "outputs": [],
   "source": [
    "import pandas as pd\n",
    "import numpy as np\n",
    "\n",
    "import Jeju_ as jj\n",
    "import matplotlib.pyplot as plt\n",
    "from tqdm.notebook import tqdm\n",
    "import random\n",
    "\n",
    "from sklearn.model_selection import train_test_split, KFold\n",
    "from sklearn.metrics import mean_absolute_error\n",
    "from sklearn.preprocessing import StandardScaler, LabelEncoder\n",
    "from sklearn.ensemble import RandomForestRegressor, ExtraTreesRegressor, GradientBoostingRegressor\n",
    "from sklearn.svm import SVR\n",
    "from lightgbm import LGBMRegressor\n",
    "from catboost import CatBoostRegressor\n",
    "from xgboost import XGBRegressor\n",
    "\n",
    "from datetime import datetime\n",
    "import time \n",
    "\n",
    "import warnings\n",
    "warnings.filterwarnings(action='ignore')"
   ]
  },
  {
   "cell_type": "markdown",
   "id": "sealed-fitness",
   "metadata": {},
   "source": [
    "# **Data**"
   ]
  },
  {
   "cell_type": "code",
   "execution_count": 5,
   "id": "faced-wales",
   "metadata": {},
   "outputs": [
    {
     "name": "stdout",
     "output_type": "stream",
     "text": [
      "(4701217, 46) (291241, 45)\n"
     ]
    },
    {
     "data": {
      "text/html": [
       "<div>\n",
       "<style scoped>\n",
       "    .dataframe tbody tr th:only-of-type {\n",
       "        vertical-align: middle;\n",
       "    }\n",
       "\n",
       "    .dataframe tbody tr th {\n",
       "        vertical-align: top;\n",
       "    }\n",
       "\n",
       "    .dataframe thead th {\n",
       "        text-align: right;\n",
       "    }\n",
       "</style>\n",
       "<table border=\"1\" class=\"dataframe\">\n",
       "  <thead>\n",
       "    <tr style=\"text-align: right;\">\n",
       "      <th></th>\n",
       "      <th>base_hour</th>\n",
       "      <th>lane_count</th>\n",
       "      <th>maximum_speed_limit</th>\n",
       "      <th>start_latitude</th>\n",
       "      <th>start_longitude</th>\n",
       "      <th>end_latitude</th>\n",
       "      <th>end_longitude</th>\n",
       "      <th>target</th>\n",
       "      <th>dist</th>\n",
       "      <th>dist_jeju_start</th>\n",
       "      <th>...</th>\n",
       "      <th>road_name__3</th>\n",
       "      <th>road_name__4</th>\n",
       "      <th>road_name__5</th>\n",
       "      <th>road_name__6</th>\n",
       "      <th>start_turn_restricted_없음</th>\n",
       "      <th>start_turn_restricted_있음</th>\n",
       "      <th>end_turn_restricted_없음</th>\n",
       "      <th>end_turn_restricted_있음</th>\n",
       "      <th>mpl_lc</th>\n",
       "      <th>dist_lc</th>\n",
       "    </tr>\n",
       "  </thead>\n",
       "  <tbody>\n",
       "    <tr>\n",
       "      <th>0</th>\n",
       "      <td>17</td>\n",
       "      <td>1</td>\n",
       "      <td>60.0</td>\n",
       "      <td>33.427747</td>\n",
       "      <td>126.662612</td>\n",
       "      <td>33.427749</td>\n",
       "      <td>126.662335</td>\n",
       "      <td>52.0</td>\n",
       "      <td>0.025766</td>\n",
       "      <td>15.317086</td>\n",
       "      <td>...</td>\n",
       "      <td>0</td>\n",
       "      <td>1</td>\n",
       "      <td>0</td>\n",
       "      <td>0</td>\n",
       "      <td>1</td>\n",
       "      <td>0</td>\n",
       "      <td>1</td>\n",
       "      <td>0</td>\n",
       "      <td>60.0</td>\n",
       "      <td>0.025766</td>\n",
       "    </tr>\n",
       "    <tr>\n",
       "      <th>1</th>\n",
       "      <td>21</td>\n",
       "      <td>2</td>\n",
       "      <td>60.0</td>\n",
       "      <td>33.500730</td>\n",
       "      <td>126.529107</td>\n",
       "      <td>33.504811</td>\n",
       "      <td>126.526240</td>\n",
       "      <td>30.0</td>\n",
       "      <td>0.525188</td>\n",
       "      <td>0.589676</td>\n",
       "      <td>...</td>\n",
       "      <td>0</td>\n",
       "      <td>0</td>\n",
       "      <td>0</td>\n",
       "      <td>0</td>\n",
       "      <td>0</td>\n",
       "      <td>1</td>\n",
       "      <td>1</td>\n",
       "      <td>0</td>\n",
       "      <td>30.0</td>\n",
       "      <td>0.262594</td>\n",
       "    </tr>\n",
       "    <tr>\n",
       "      <th>2</th>\n",
       "      <td>7</td>\n",
       "      <td>2</td>\n",
       "      <td>80.0</td>\n",
       "      <td>33.279145</td>\n",
       "      <td>126.368598</td>\n",
       "      <td>33.280072</td>\n",
       "      <td>126.362147</td>\n",
       "      <td>61.0</td>\n",
       "      <td>0.609613</td>\n",
       "      <td>28.459505</td>\n",
       "      <td>...</td>\n",
       "      <td>0</td>\n",
       "      <td>0</td>\n",
       "      <td>0</td>\n",
       "      <td>0</td>\n",
       "      <td>1</td>\n",
       "      <td>0</td>\n",
       "      <td>1</td>\n",
       "      <td>0</td>\n",
       "      <td>40.0</td>\n",
       "      <td>0.304806</td>\n",
       "    </tr>\n",
       "  </tbody>\n",
       "</table>\n",
       "<p>3 rows × 46 columns</p>\n",
       "</div>"
      ],
      "text/plain": [
       "   base_hour  lane_count  maximum_speed_limit  start_latitude  \\\n",
       "0         17           1                 60.0       33.427747   \n",
       "1         21           2                 60.0       33.500730   \n",
       "2          7           2                 80.0       33.279145   \n",
       "\n",
       "   start_longitude  end_latitude  end_longitude  target      dist  \\\n",
       "0       126.662612     33.427749     126.662335    52.0  0.025766   \n",
       "1       126.529107     33.504811     126.526240    30.0  0.525188   \n",
       "2       126.368598     33.280072     126.362147    61.0  0.609613   \n",
       "\n",
       "   dist_jeju_start  ...  road_name__3  road_name__4  road_name__5  \\\n",
       "0        15.317086  ...             0             1             0   \n",
       "1         0.589676  ...             0             0             0   \n",
       "2        28.459505  ...             0             0             0   \n",
       "\n",
       "   road_name__6  start_turn_restricted_없음  start_turn_restricted_있음  \\\n",
       "0             0                         1                         0   \n",
       "1             0                         0                         1   \n",
       "2             0                         1                         0   \n",
       "\n",
       "   end_turn_restricted_없음  end_turn_restricted_있음  mpl_lc   dist_lc  \n",
       "0                       1                       0    60.0  0.025766  \n",
       "1                       1                       0    30.0  0.262594  \n",
       "2                       1                       0    40.0  0.304806  \n",
       "\n",
       "[3 rows x 46 columns]"
      ]
     },
     "execution_count": 5,
     "metadata": {},
     "output_type": "execute_result"
    }
   ],
   "source": [
    "Train = pd.read_parquet('../DAT/pro_train2.parquet')\n",
    "Test = pd.read_parquet('../DAT/pro_test2.parquet')\n",
    "\n",
    "print(Train.shape, Test.shape)\n",
    "Train.head(3)"
   ]
  },
  {
   "cell_type": "markdown",
   "id": "473d8300-c6cb-4e34-a2b4-1c44b7d74b60",
   "metadata": {},
   "source": [
    "## **_데이터 추가 전처리**\n",
    "\n",
    "- 최대속도제한 변수: One Hot Encoding\n",
    "- 최대속도제한/차선수 변수: One Hot Encoding"
   ]
  },
  {
   "cell_type": "code",
   "execution_count": 11,
   "id": "5f2ab9f3-df45-47ec-89a8-8b13e7a47157",
   "metadata": {},
   "outputs": [
    {
     "name": "stdout",
     "output_type": "stream",
     "text": [
      "[60.         30.         40.         25.         50.         23.33333333\n",
      " 35.         70.         16.66666667 20.         15.         80.\n",
      " 10.        ]\n",
      "[60. 80. 50. 70. 30. 40.]\n"
     ]
    }
   ],
   "source": [
    "print(Train[\"mpl_lc\"].unique())\n",
    "print(Train[\"maximum_speed_limit\"].unique())"
   ]
  },
  {
   "cell_type": "code",
   "execution_count": 37,
   "id": "lovely-sponsorship",
   "metadata": {},
   "outputs": [
    {
     "name": "stdout",
     "output_type": "stream",
     "text": [
      "Cat_Onehot\n"
     ]
    },
    {
     "data": {
      "application/json": {
       "ascii": false,
       "bar_format": null,
       "colour": null,
       "elapsed": 0.02292346954345703,
       "initial": 0,
       "n": 0,
       "ncols": null,
       "nrows": 49,
       "postfix": null,
       "prefix": "",
       "rate": null,
       "total": 3,
       "unit": "it",
       "unit_divisor": 1000,
       "unit_scale": false
      },
      "application/vnd.jupyter.widget-view+json": {
       "model_id": "e54e5c7b33f04ff48326632f2e167f61",
       "version_major": 2,
       "version_minor": 0
      },
      "text/plain": [
       "  0%|          | 0/3 [00:00<?, ?it/s]"
      ]
     },
     "metadata": {},
     "output_type": "display_data"
    },
    {
     "name": "stdout",
     "output_type": "stream",
     "text": [
      "Cat_Onehot\n"
     ]
    },
    {
     "data": {
      "application/json": {
       "ascii": false,
       "bar_format": null,
       "colour": null,
       "elapsed": 0.04912567138671875,
       "initial": 0,
       "n": 0,
       "ncols": null,
       "nrows": 49,
       "postfix": null,
       "prefix": "",
       "rate": null,
       "total": 3,
       "unit": "it",
       "unit_divisor": 1000,
       "unit_scale": false
      },
      "application/vnd.jupyter.widget-view+json": {
       "model_id": "66c84572e6c2462886c3c416565a6b16",
       "version_major": 2,
       "version_minor": 0
      },
      "text/plain": [
       "  0%|          | 0/3 [00:00<?, ?it/s]"
      ]
     },
     "metadata": {},
     "output_type": "display_data"
    }
   ],
   "source": [
    "Train2 = jj.cat_onehot(Train, var = [\"mpl_lc\", \"maximum_speed_limit\", \"lane_count\"])\n",
    "Test2 = jj.cat_onehot(Test, var = [\"mpl_lc\", \"maximum_speed_limit\", \"lane_count\"])"
   ]
  },
  {
   "cell_type": "code",
   "execution_count": 38,
   "id": "dc5ea47d-440c-4ce4-8340-63d0ef4ac9de",
   "metadata": {},
   "outputs": [
    {
     "name": "stdout",
     "output_type": "stream",
     "text": [
      "(4701217, 65)\n"
     ]
    },
    {
     "data": {
      "text/html": [
       "<div>\n",
       "<style scoped>\n",
       "    .dataframe tbody tr th:only-of-type {\n",
       "        vertical-align: middle;\n",
       "    }\n",
       "\n",
       "    .dataframe tbody tr th {\n",
       "        vertical-align: top;\n",
       "    }\n",
       "\n",
       "    .dataframe thead th {\n",
       "        text-align: right;\n",
       "    }\n",
       "</style>\n",
       "<table border=\"1\" class=\"dataframe\">\n",
       "  <thead>\n",
       "    <tr style=\"text-align: right;\">\n",
       "      <th></th>\n",
       "      <th>base_hour</th>\n",
       "      <th>start_latitude</th>\n",
       "      <th>start_longitude</th>\n",
       "      <th>end_latitude</th>\n",
       "      <th>end_longitude</th>\n",
       "      <th>target</th>\n",
       "      <th>dist</th>\n",
       "      <th>dist_jeju_start</th>\n",
       "      <th>dist_jeju_end</th>\n",
       "      <th>dist_seoqui_start</th>\n",
       "      <th>...</th>\n",
       "      <th>mpl_lc_80.0</th>\n",
       "      <th>maximum_speed_limit_30.0</th>\n",
       "      <th>maximum_speed_limit_40.0</th>\n",
       "      <th>maximum_speed_limit_50.0</th>\n",
       "      <th>maximum_speed_limit_60.0</th>\n",
       "      <th>maximum_speed_limit_70.0</th>\n",
       "      <th>maximum_speed_limit_80.0</th>\n",
       "      <th>lane_count_1</th>\n",
       "      <th>lane_count_2</th>\n",
       "      <th>lane_count_3</th>\n",
       "    </tr>\n",
       "  </thead>\n",
       "  <tbody>\n",
       "    <tr>\n",
       "      <th>0</th>\n",
       "      <td>17</td>\n",
       "      <td>33.427747</td>\n",
       "      <td>126.662612</td>\n",
       "      <td>33.427749</td>\n",
       "      <td>126.662335</td>\n",
       "      <td>52.0</td>\n",
       "      <td>0.025766</td>\n",
       "      <td>15.317086</td>\n",
       "      <td>15.295145</td>\n",
       "      <td>21.046263</td>\n",
       "      <td>...</td>\n",
       "      <td>0</td>\n",
       "      <td>0</td>\n",
       "      <td>0</td>\n",
       "      <td>0</td>\n",
       "      <td>1</td>\n",
       "      <td>0</td>\n",
       "      <td>0</td>\n",
       "      <td>1</td>\n",
       "      <td>0</td>\n",
       "      <td>0</td>\n",
       "    </tr>\n",
       "    <tr>\n",
       "      <th>1</th>\n",
       "      <td>21</td>\n",
       "      <td>33.500730</td>\n",
       "      <td>126.529107</td>\n",
       "      <td>33.504811</td>\n",
       "      <td>126.526240</td>\n",
       "      <td>30.0</td>\n",
       "      <td>0.525188</td>\n",
       "      <td>0.589676</td>\n",
       "      <td>0.552649</td>\n",
       "      <td>26.899768</td>\n",
       "      <td>...</td>\n",
       "      <td>0</td>\n",
       "      <td>0</td>\n",
       "      <td>0</td>\n",
       "      <td>0</td>\n",
       "      <td>1</td>\n",
       "      <td>0</td>\n",
       "      <td>0</td>\n",
       "      <td>0</td>\n",
       "      <td>1</td>\n",
       "      <td>0</td>\n",
       "    </tr>\n",
       "    <tr>\n",
       "      <th>2</th>\n",
       "      <td>7</td>\n",
       "      <td>33.279145</td>\n",
       "      <td>126.368598</td>\n",
       "      <td>33.280072</td>\n",
       "      <td>126.362147</td>\n",
       "      <td>61.0</td>\n",
       "      <td>0.609613</td>\n",
       "      <td>28.459505</td>\n",
       "      <td>28.678786</td>\n",
       "      <td>17.801324</td>\n",
       "      <td>...</td>\n",
       "      <td>0</td>\n",
       "      <td>0</td>\n",
       "      <td>0</td>\n",
       "      <td>0</td>\n",
       "      <td>0</td>\n",
       "      <td>0</td>\n",
       "      <td>1</td>\n",
       "      <td>0</td>\n",
       "      <td>1</td>\n",
       "      <td>0</td>\n",
       "    </tr>\n",
       "  </tbody>\n",
       "</table>\n",
       "<p>3 rows × 65 columns</p>\n",
       "</div>"
      ],
      "text/plain": [
       "   base_hour  start_latitude  start_longitude  end_latitude  end_longitude  \\\n",
       "0         17       33.427747       126.662612     33.427749     126.662335   \n",
       "1         21       33.500730       126.529107     33.504811     126.526240   \n",
       "2          7       33.279145       126.368598     33.280072     126.362147   \n",
       "\n",
       "   target      dist  dist_jeju_start  dist_jeju_end  dist_seoqui_start  ...  \\\n",
       "0    52.0  0.025766        15.317086      15.295145          21.046263  ...   \n",
       "1    30.0  0.525188         0.589676       0.552649          26.899768  ...   \n",
       "2    61.0  0.609613        28.459505      28.678786          17.801324  ...   \n",
       "\n",
       "   mpl_lc_80.0  maximum_speed_limit_30.0  maximum_speed_limit_40.0  \\\n",
       "0            0                         0                         0   \n",
       "1            0                         0                         0   \n",
       "2            0                         0                         0   \n",
       "\n",
       "   maximum_speed_limit_50.0  maximum_speed_limit_60.0  \\\n",
       "0                         0                         1   \n",
       "1                         0                         1   \n",
       "2                         0                         0   \n",
       "\n",
       "   maximum_speed_limit_70.0  maximum_speed_limit_80.0  lane_count_1  \\\n",
       "0                         0                         0             1   \n",
       "1                         0                         0             0   \n",
       "2                         0                         1             0   \n",
       "\n",
       "   lane_count_2  lane_count_3  \n",
       "0             0             0  \n",
       "1             1             0  \n",
       "2             1             0  \n",
       "\n",
       "[3 rows x 65 columns]"
      ]
     },
     "execution_count": 38,
     "metadata": {},
     "output_type": "execute_result"
    }
   ],
   "source": [
    "print(Train2.shape)\n",
    "Train2.head(3)"
   ]
  },
  {
   "cell_type": "markdown",
   "id": "fac01d68-bb78-4210-8253-5c7b089ef658",
   "metadata": {},
   "source": [
    "# **Train and Validation**"
   ]
  },
  {
   "cell_type": "markdown",
   "id": "651b6213-6c5c-4913-9f95-a650f8406502",
   "metadata": {},
   "source": [
    "## **_Split 7:3**"
   ]
  },
  {
   "cell_type": "code",
   "execution_count": 39,
   "id": "residential-timer",
   "metadata": {},
   "outputs": [
    {
     "name": "stdout",
     "output_type": "stream",
     "text": [
      "(3290851, 64) (1410366, 64) (3290851,) (1410366,)\n"
     ]
    }
   ],
   "source": [
    "train_X, valid_X, train_y, valid_y = train_test_split(Train2.drop(columns = [\"target\"]), Train2[\"target\"], \n",
    "                                                      test_size = 0.3, shuffle = True, random_state = 717)\n",
    "\n",
    "train_X = train_X.reset_index(drop = True)\n",
    "train_y = train_y.reset_index(drop = True)\n",
    "valid_X = valid_X.reset_index(drop = True)\n",
    "valid_y = valid_y.reset_index(drop = True)\n",
    "\n",
    "print(train_X.shape, valid_X.shape, train_y.shape, valid_y.shape)"
   ]
  },
  {
   "cell_type": "markdown",
   "id": "74425643-c832-4aab-9fa3-ec9d5c3ed51e",
   "metadata": {},
   "source": [
    "## **_표준화**"
   ]
  },
  {
   "cell_type": "code",
   "execution_count": 40,
   "id": "working-contrary",
   "metadata": {},
   "outputs": [],
   "source": [
    "num_var = ['base_hour', 'start_latitude', 'start_longitude', 'end_latitude', 'end_longitude', \n",
    "           \"dist\", 'dist_jeju_start', 'dist_jeju_end', 'dist_seoqui_start', 'dist_seoqui_end', \"dist_airport_start\", \"dist_airport_end\",\n",
    "           'temp', 'rain', 'wind', 'humidity', 'sunny', 'snow', 'land_temp', \"covid\",\n",
    "           \"dist_lc\"]\n",
    "\n",
    "# num_var"
   ]
  },
  {
   "cell_type": "code",
   "execution_count": 41,
   "id": "martial-ending",
   "metadata": {},
   "outputs": [],
   "source": [
    "st_train_X, st_valid_X = jj.std_(train_X, valid_X, var = num_var)"
   ]
  },
  {
   "cell_type": "markdown",
   "id": "f62cef17-064e-4634-8a1e-489371b08949",
   "metadata": {},
   "source": [
    "## **_Modeling**"
   ]
  },
  {
   "cell_type": "markdown",
   "id": "5ff0cb6f-edea-4f16-987b-393eca93e9ac",
   "metadata": {},
   "source": [
    "### **__Models**"
   ]
  },
  {
   "cell_type": "code",
   "execution_count": 47,
   "id": "398e68bb-bac9-4b43-bb04-e555442814d6",
   "metadata": {},
   "outputs": [],
   "source": [
    "SEED = 717\n",
    "model_dict = {}\n",
    "model_dict[\"RF\"] = RandomForestRegressor(random_state = SEED)\n",
    "model_dict[\"ET\"] = ExtraTreesRegressor(random_state = SEED)\n",
    "model_dict[\"LGBM\"] = LGBMRegressor(random_state = SEED)\n",
    "model_dict[\"XGB\"] = XGBRegressor(random_state = SEED)\n",
    "model_dict[\"GB\"] = GradientBoostingRegressor(random_state = SEED)\n",
    "model_dict[\"CAT\"] = CatBoostRegressor(random_state = SEED, silent = True, loss_function = \"MAE\")"
   ]
  },
  {
   "cell_type": "markdown",
   "id": "f0eb1cbd-f485-42e4-97dc-257d00e7f69f",
   "metadata": {},
   "source": [
    "### **__Fit and Predict**"
   ]
  },
  {
   "cell_type": "code",
   "execution_count": null,
   "id": "808dc858-1b5c-4c4a-8300-f4d095b0aae7",
   "metadata": {},
   "outputs": [
    {
     "data": {
      "application/json": {
       "ascii": false,
       "bar_format": null,
       "colour": null,
       "elapsed": 0.023598909378051758,
       "initial": 0,
       "n": 0,
       "ncols": null,
       "nrows": 49,
       "postfix": null,
       "prefix": "",
       "rate": null,
       "total": 6,
       "unit": "it",
       "unit_divisor": 1000,
       "unit_scale": false
      },
      "application/vnd.jupyter.widget-view+json": {
       "model_id": "173745e22b8f430a9b9a0a781b3897a0",
       "version_major": 2,
       "version_minor": 0
      },
      "text/plain": [
       "  0%|          | 0/6 [00:00<?, ?it/s]"
      ]
     },
     "metadata": {},
     "output_type": "display_data"
    }
   ],
   "source": [
    "pred_dict = {}\n",
    "for name_, model_ in tqdm(model_dict.items()):\n",
    "    start_time = time.time()\n",
    "    model_fit = model_.fit(train_X, train_y)\n",
    "    pred = model_fit.predict(valid_X)\n",
    "    pred_dict[name_] = pred\n",
    "    print(\"%s NMAE: %.4f| 소요시간: %.4fsec\"% (name_, mean_absolute_error(np.ravel(valid_y), np.ravel(pred)), time.time()-start_time))"
   ]
  },
  {
   "cell_type": "markdown",
   "id": "65b12a0f-05d7-44a1-a254-ef1a11a51816",
   "metadata": {},
   "source": [
    "### **__Ensemble**"
   ]
  },
  {
   "cell_type": "code",
   "execution_count": null,
   "id": "225defb5-62cf-4b27-ba5a-e8092cfeb304",
   "metadata": {},
   "outputs": [],
   "source": [
    "def ensemble_result(pred_dict, true_y = valid_y, ascending = True):\n",
    "    import itertools\n",
    "\n",
    "    ensemble_df = pd.DataFrame()\n",
    "    arr_name = pred_dict.keys()\n",
    "    arr_value = pred_dict.values()\n",
    "\n",
    "    for i in range(1, len(arr_name)+1):\n",
    "        ncr_name = list(itertools.combinations(arr_name, i))\n",
    "        ncr_value = list(itertools.combinations(arr_value, i))\n",
    "        for j in range(len(ncr_name)):\n",
    "            pred_ens = np.mean(list(ncr_value[j]), axis = 0)       \n",
    "            ens_NMAE = NMAE(np.ravel(true_y), pred_ens)\n",
    "            ensemble_df[ncr_name[j]] = [np.round(ens_NMAE, 4)]\n",
    "\n",
    "\n",
    "    ensemble_df.index = [\"result\"]\n",
    "    ensemble_df = ensemble_df.T.sort_values(by = \"result\", ascending = ascending)\n",
    "    return ensemble_df"
   ]
  },
  {
   "cell_type": "code",
   "execution_count": null,
   "id": "8168ea82-a0e3-4f3b-acc9-8d85d6b36079",
   "metadata": {},
   "outputs": [],
   "source": [
    "ensemble_df = ensemble_result(pred_dict)\n",
    "ensemble_df.head(3)"
   ]
  },
  {
   "cell_type": "markdown",
   "id": "fixed-barcelona",
   "metadata": {},
   "source": [
    "## **Test and Submission**"
   ]
  },
  {
   "cell_type": "markdown",
   "id": "87ecb331-1ba0-4521-909d-2e7d8de96276",
   "metadata": {},
   "source": [
    "## **_Test**"
   ]
  },
  {
   "cell_type": "code",
   "execution_count": null,
   "id": "a2f0907e-f2e1-4b86-9d16-56ad046a12a4",
   "metadata": {},
   "outputs": [],
   "source": [
    "st_Train, st_Test = jj.std_(Train2, Test2, var = num_var)\n",
    "st_Train[\"target\"]"
   ]
  },
  {
   "cell_type": "code",
   "execution_count": null,
   "id": "7605f914-527c-4fa3-a08e-48e386ba3f6e",
   "metadata": {},
   "outputs": [],
   "source": [
    "st_Train_X = st_Train.drop(columns = [\"target\"])\n",
    "st_Train_y = st_Train[\"target\"]\n",
    "print(st_Train_X.shape, st_Train_y.shape)"
   ]
  },
  {
   "cell_type": "code",
   "execution_count": null,
   "id": "2eef375e-7dc9-4ef9-b106-be6f0ca053dc",
   "metadata": {},
   "outputs": [],
   "source": [
    "Pred_list = []\n",
    "for model_name in ensemble_df.index[0]:\n",
    "    model_fit = model_dict[model_name].fit(Train_X_pls, Train_y)\n",
    "    pred = model_fit.predict(test_pls)\n",
    "    Pred_list.append(pred)   "
   ]
  },
  {
   "cell_type": "code",
   "execution_count": null,
   "id": "e6cec487-c2ae-476c-9e59-4a9ce97fe479",
   "metadata": {},
   "outputs": [],
   "source": [
    "Final_pred = np.mean(Pred_list, axis = 0)\n",
    "print(ensemble_df.index[0], Final_pred) "
   ]
  },
  {
   "cell_type": "markdown",
   "id": "b2810a26-337c-4e45-ac13-31a9dc4755d9",
   "metadata": {},
   "source": [
    "## **_Submission**"
   ]
  },
  {
   "cell_type": "code",
   "execution_count": 18,
   "id": "further-adapter",
   "metadata": {},
   "outputs": [],
   "source": [
    "sample_submission = pd.read_csv('../DAT/sample_submission.csv')"
   ]
  },
  {
   "cell_type": "code",
   "execution_count": 19,
   "id": "informative-smart",
   "metadata": {},
   "outputs": [
    {
     "data": {
      "text/html": [
       "<div>\n",
       "<style scoped>\n",
       "    .dataframe tbody tr th:only-of-type {\n",
       "        vertical-align: middle;\n",
       "    }\n",
       "\n",
       "    .dataframe tbody tr th {\n",
       "        vertical-align: top;\n",
       "    }\n",
       "\n",
       "    .dataframe thead th {\n",
       "        text-align: right;\n",
       "    }\n",
       "</style>\n",
       "<table border=\"1\" class=\"dataframe\">\n",
       "  <thead>\n",
       "    <tr style=\"text-align: right;\">\n",
       "      <th></th>\n",
       "      <th>id</th>\n",
       "      <th>target</th>\n",
       "    </tr>\n",
       "  </thead>\n",
       "  <tbody>\n",
       "    <tr>\n",
       "      <th>0</th>\n",
       "      <td>TEST_000000</td>\n",
       "      <td>27.0</td>\n",
       "    </tr>\n",
       "    <tr>\n",
       "      <th>1</th>\n",
       "      <td>TEST_000001</td>\n",
       "      <td>43.0</td>\n",
       "    </tr>\n",
       "    <tr>\n",
       "      <th>2</th>\n",
       "      <td>TEST_000002</td>\n",
       "      <td>68.0</td>\n",
       "    </tr>\n",
       "    <tr>\n",
       "      <th>3</th>\n",
       "      <td>TEST_000003</td>\n",
       "      <td>38.0</td>\n",
       "    </tr>\n",
       "    <tr>\n",
       "      <th>4</th>\n",
       "      <td>TEST_000004</td>\n",
       "      <td>44.0</td>\n",
       "    </tr>\n",
       "    <tr>\n",
       "      <th>...</th>\n",
       "      <td>...</td>\n",
       "      <td>...</td>\n",
       "    </tr>\n",
       "    <tr>\n",
       "      <th>291236</th>\n",
       "      <td>TEST_291236</td>\n",
       "      <td>47.0</td>\n",
       "    </tr>\n",
       "    <tr>\n",
       "      <th>291237</th>\n",
       "      <td>TEST_291237</td>\n",
       "      <td>52.0</td>\n",
       "    </tr>\n",
       "    <tr>\n",
       "      <th>291238</th>\n",
       "      <td>TEST_291238</td>\n",
       "      <td>22.0</td>\n",
       "    </tr>\n",
       "    <tr>\n",
       "      <th>291239</th>\n",
       "      <td>TEST_291239</td>\n",
       "      <td>22.0</td>\n",
       "    </tr>\n",
       "    <tr>\n",
       "      <th>291240</th>\n",
       "      <td>TEST_291240</td>\n",
       "      <td>47.0</td>\n",
       "    </tr>\n",
       "  </tbody>\n",
       "</table>\n",
       "<p>291241 rows × 2 columns</p>\n",
       "</div>"
      ],
      "text/plain": [
       "                 id  target\n",
       "0       TEST_000000    27.0\n",
       "1       TEST_000001    43.0\n",
       "2       TEST_000002    68.0\n",
       "3       TEST_000003    38.0\n",
       "4       TEST_000004    44.0\n",
       "...             ...     ...\n",
       "291236  TEST_291236    47.0\n",
       "291237  TEST_291237    52.0\n",
       "291238  TEST_291238    22.0\n",
       "291239  TEST_291239    22.0\n",
       "291240  TEST_291240    47.0\n",
       "\n",
       "[291241 rows x 2 columns]"
      ]
     },
     "execution_count": 19,
     "metadata": {},
     "output_type": "execute_result"
    }
   ],
   "source": [
    "sample_submission['target'] = Final_pred\n",
    "sample_submission.head()"
   ]
  },
  {
   "cell_type": "code",
   "execution_count": 20,
   "id": "premier-spending",
   "metadata": {},
   "outputs": [],
   "source": [
    "sample_submission.to_csv(\"../OUT/\"+ str(datetime.today())[:10] + \" final.csv\", index = False)"
   ]
  },
  {
   "cell_type": "code",
   "execution_count": null,
   "id": "closed-county",
   "metadata": {},
   "outputs": [],
   "source": []
  }
 ],
 "metadata": {
  "kernelspec": {
   "display_name": "Python 3 (ipykernel)",
   "language": "python",
   "name": "python3"
  },
  "language_info": {
   "codemirror_mode": {
    "name": "ipython",
    "version": 3
   },
   "file_extension": ".py",
   "mimetype": "text/x-python",
   "name": "python",
   "nbconvert_exporter": "python",
   "pygments_lexer": "ipython3",
   "version": "3.8.7"
  }
 },
 "nbformat": 4,
 "nbformat_minor": 5
}
