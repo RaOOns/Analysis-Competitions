{
 "cells": [
  {
   "cell_type": "markdown",
   "id": "minimal-pulse",
   "metadata": {},
   "source": [
    "# **Import**"
   ]
  },
  {
   "cell_type": "code",
   "execution_count": 1,
   "id": "fe21620d-7299-471c-bb97-f5e93eb48746",
   "metadata": {},
   "outputs": [],
   "source": [
    "# !pip install geopy\n",
    "# !pip install pyarrow\n",
    "# !pip install fastparquet"
   ]
  },
  {
   "cell_type": "code",
   "execution_count": 2,
   "id": "regional-apartment",
   "metadata": {},
   "outputs": [],
   "source": [
    "import pandas as pd\n",
    "import numpy as np\n",
    "from sklearn.preprocessing import LabelEncoder\n",
    "\n",
    "import gc\n",
    "import matplotlib.pyplot as plt\n",
    "from tqdm.notebook import tqdm\n",
    "import random\n",
    "\n",
    "from yellowbrick.target import FeatureCorrelation\n",
    "from datetime import datetime, timedelta\n",
    "import time \n",
    "\n",
    "# 직접 제작한 패키지\n",
    "import Jeju_ as jj\n",
    "\n",
    "import warnings\n",
    "warnings.filterwarnings(action='ignore')"
   ]
  },
  {
   "cell_type": "markdown",
   "id": "modern-photographer",
   "metadata": {},
   "source": [
    "# **DATA 불러오기**"
   ]
  },
  {
   "cell_type": "markdown",
   "id": "pursuant-singles",
   "metadata": {},
   "source": [
    "## **_csv to parquet**\n",
    "- 메모리에 효율적인 데이터 유형을 사용하여 용량을 크게 줄이고 빠른 작업이 가능합니다."
   ]
  },
  {
   "cell_type": "code",
   "execution_count": 4,
   "id": "supposed-graphic",
   "metadata": {},
   "outputs": [],
   "source": [
    "def csv_to_parquet(csv_path, save_name):\n",
    "    df = pd.read_csv(csv_path)\n",
    "    df.to_parquet(f'./{save_name}.parquet')\n",
    "    del df\n",
    "    gc.collect()\n",
    "    print(save_name, 'Done.')"
   ]
  },
  {
   "cell_type": "code",
   "execution_count": 6,
   "id": "mediterranean-military",
   "metadata": {},
   "outputs": [],
   "source": [
    "# csv_to_parquet('../DAT/train.csv', '../DAT/train')\n",
    "# csv_to_parquet('../DAT/test.csv', '../DAT/test')"
   ]
  },
  {
   "cell_type": "markdown",
   "id": "peripheral-coverage",
   "metadata": {},
   "source": [
    "## **_데이터 불러오기**"
   ]
  },
  {
   "cell_type": "markdown",
   "id": "located-intermediate",
   "metadata": {},
   "source": [
    "### **__Train and test**"
   ]
  },
  {
   "cell_type": "code",
   "execution_count": 7,
   "id": "hourly-publicity",
   "metadata": {},
   "outputs": [],
   "source": [
    "train = pd.read_parquet('../DAT/train.parquet')\n",
    "test = pd.read_parquet('../DAT/test.parquet')"
   ]
  },
  {
   "cell_type": "code",
   "execution_count": 8,
   "id": "alien-spine",
   "metadata": {},
   "outputs": [
    {
     "name": "stdout",
     "output_type": "stream",
     "text": [
      "(4701217, 23) (291241, 22)\n"
     ]
    },
    {
     "data": {
      "text/html": [
       "<div>\n",
       "<style scoped>\n",
       "    .dataframe tbody tr th:only-of-type {\n",
       "        vertical-align: middle;\n",
       "    }\n",
       "\n",
       "    .dataframe tbody tr th {\n",
       "        vertical-align: top;\n",
       "    }\n",
       "\n",
       "    .dataframe thead th {\n",
       "        text-align: right;\n",
       "    }\n",
       "</style>\n",
       "<table border=\"1\" class=\"dataframe\">\n",
       "  <thead>\n",
       "    <tr style=\"text-align: right;\">\n",
       "      <th></th>\n",
       "      <th>id</th>\n",
       "      <th>base_date</th>\n",
       "      <th>day_of_week</th>\n",
       "      <th>base_hour</th>\n",
       "      <th>lane_count</th>\n",
       "      <th>road_rating</th>\n",
       "      <th>road_name</th>\n",
       "      <th>multi_linked</th>\n",
       "      <th>connect_code</th>\n",
       "      <th>maximum_speed_limit</th>\n",
       "      <th>...</th>\n",
       "      <th>road_type</th>\n",
       "      <th>start_node_name</th>\n",
       "      <th>start_latitude</th>\n",
       "      <th>start_longitude</th>\n",
       "      <th>start_turn_restricted</th>\n",
       "      <th>end_node_name</th>\n",
       "      <th>end_latitude</th>\n",
       "      <th>end_longitude</th>\n",
       "      <th>end_turn_restricted</th>\n",
       "      <th>target</th>\n",
       "    </tr>\n",
       "  </thead>\n",
       "  <tbody>\n",
       "    <tr>\n",
       "      <th>0</th>\n",
       "      <td>TRAIN_0000000</td>\n",
       "      <td>20220623</td>\n",
       "      <td>목</td>\n",
       "      <td>17</td>\n",
       "      <td>1</td>\n",
       "      <td>106</td>\n",
       "      <td>지방도1112호선</td>\n",
       "      <td>0</td>\n",
       "      <td>0</td>\n",
       "      <td>60.0</td>\n",
       "      <td>...</td>\n",
       "      <td>3</td>\n",
       "      <td>제3교래교</td>\n",
       "      <td>33.427747</td>\n",
       "      <td>126.662612</td>\n",
       "      <td>없음</td>\n",
       "      <td>제3교래교</td>\n",
       "      <td>33.427749</td>\n",
       "      <td>126.662335</td>\n",
       "      <td>없음</td>\n",
       "      <td>52.0</td>\n",
       "    </tr>\n",
       "    <tr>\n",
       "      <th>1</th>\n",
       "      <td>TRAIN_0000001</td>\n",
       "      <td>20220728</td>\n",
       "      <td>목</td>\n",
       "      <td>21</td>\n",
       "      <td>2</td>\n",
       "      <td>103</td>\n",
       "      <td>일반국도11호선</td>\n",
       "      <td>0</td>\n",
       "      <td>0</td>\n",
       "      <td>60.0</td>\n",
       "      <td>...</td>\n",
       "      <td>0</td>\n",
       "      <td>광양사거리</td>\n",
       "      <td>33.500730</td>\n",
       "      <td>126.529107</td>\n",
       "      <td>있음</td>\n",
       "      <td>KAL사거리</td>\n",
       "      <td>33.504811</td>\n",
       "      <td>126.526240</td>\n",
       "      <td>없음</td>\n",
       "      <td>30.0</td>\n",
       "    </tr>\n",
       "    <tr>\n",
       "      <th>2</th>\n",
       "      <td>TRAIN_0000002</td>\n",
       "      <td>20211010</td>\n",
       "      <td>일</td>\n",
       "      <td>7</td>\n",
       "      <td>2</td>\n",
       "      <td>103</td>\n",
       "      <td>일반국도16호선</td>\n",
       "      <td>0</td>\n",
       "      <td>0</td>\n",
       "      <td>80.0</td>\n",
       "      <td>...</td>\n",
       "      <td>0</td>\n",
       "      <td>창고천교</td>\n",
       "      <td>33.279145</td>\n",
       "      <td>126.368598</td>\n",
       "      <td>없음</td>\n",
       "      <td>상창육교</td>\n",
       "      <td>33.280072</td>\n",
       "      <td>126.362147</td>\n",
       "      <td>없음</td>\n",
       "      <td>61.0</td>\n",
       "    </tr>\n",
       "  </tbody>\n",
       "</table>\n",
       "<p>3 rows × 23 columns</p>\n",
       "</div>"
      ],
      "text/plain": [
       "              id  base_date day_of_week  base_hour  lane_count  road_rating  \\\n",
       "0  TRAIN_0000000   20220623           목         17           1          106   \n",
       "1  TRAIN_0000001   20220728           목         21           2          103   \n",
       "2  TRAIN_0000002   20211010           일          7           2          103   \n",
       "\n",
       "   road_name  multi_linked  connect_code  maximum_speed_limit  ...  road_type  \\\n",
       "0  지방도1112호선             0             0                 60.0  ...          3   \n",
       "1   일반국도11호선             0             0                 60.0  ...          0   \n",
       "2   일반국도16호선             0             0                 80.0  ...          0   \n",
       "\n",
       "   start_node_name  start_latitude  start_longitude start_turn_restricted  \\\n",
       "0            제3교래교       33.427747       126.662612                    없음   \n",
       "1            광양사거리       33.500730       126.529107                    있음   \n",
       "2             창고천교       33.279145       126.368598                    없음   \n",
       "\n",
       "   end_node_name  end_latitude end_longitude end_turn_restricted  target  \n",
       "0          제3교래교     33.427749    126.662335                  없음    52.0  \n",
       "1         KAL사거리     33.504811    126.526240                  없음    30.0  \n",
       "2           상창육교     33.280072    126.362147                  없음    61.0  \n",
       "\n",
       "[3 rows x 23 columns]"
      ]
     },
     "execution_count": 8,
     "metadata": {},
     "output_type": "execute_result"
    }
   ],
   "source": [
    "print(train.shape, test.shape)\n",
    "train.head(3)"
   ]
  },
  {
   "cell_type": "markdown",
   "id": "5b6e59af-f400-4030-8e5d-b8d09c6019cd",
   "metadata": {},
   "source": [
    "## **_외부 데이터**"
   ]
  },
  {
   "cell_type": "markdown",
   "id": "contrary-integrity",
   "metadata": {},
   "source": [
    "### **___날씨 데이터**"
   ]
  },
  {
   "cell_type": "code",
   "execution_count": 9,
   "id": "alien-temple",
   "metadata": {},
   "outputs": [],
   "source": [
    "weather21 = pd.read_csv(\"../DAT/2021 제주날씨.csv\", encoding = \"cp949\")\n",
    "weather21 = weather21.drop(columns = [\"지점\"]).fillna(0)\n",
    "weather21.columns = ['지점명', '일시', '평균기온', '일강수량', '평균풍속', '평균상대습도', '합계일사량', '일최심적설', '평균 지면온도']\n",
    "\n",
    "weather22 = pd.read_csv(\"../DAT/2022 제주날씨.csv\", encoding = \"cp949\")\n",
    "weather22 = weather22.drop(columns = [\"지점\"]).fillna(0)\n",
    "weather22.columns = ['지점명', '일시', '평균기온', '일강수량', '평균풍속', '평균상대습도', '합계일사량', '일최심적설', '평균 지면온도']"
   ]
  },
  {
   "cell_type": "code",
   "execution_count": 13,
   "id": "cordless-schema",
   "metadata": {},
   "outputs": [],
   "source": [
    "weather_jj = pd.concat([weather21[weather21[\"지점명\"] == \"제주\"], weather22[weather22[\"지점명\"] == \"제주\"]], axis = 0).reset_index(drop = True)\n",
    "weather_sq = pd.concat([weather21[weather21[\"지점명\"] == \"서귀포\"], weather22[weather22[\"지점명\"] == \"서귀포\"]], axis = 0).reset_index(drop = True)\n",
    "\n",
    "### 제주와 서귀포 날씨 평균\n",
    "weather = pd.concat([weather_jj[\"일시\"], (weather_jj.iloc[:, 2:] + weather_sq.iloc[:, 2:])/2], axis = 1)\n",
    "# weather.head()"
   ]
  },
  {
   "cell_type": "markdown",
   "id": "legendary-casting",
   "metadata": {},
   "source": [
    "### **___Covid19**"
   ]
  },
  {
   "cell_type": "code",
   "execution_count": 15,
   "id": "standing-hungary",
   "metadata": {},
   "outputs": [],
   "source": [
    "### 제주도 코로나 확진자 수\n",
    "covid19 = pd.read_csv(\"../DAT/covid_jj.csv\", encoding = \"cp949\").iloc[:, :2]\n",
    "covid19.columns = [\"일자\", \"covid\"]\n",
    "covid19[\"covid\"] = covid19[\"covid\"].astype(int)\n",
    "# covid19.head(3)"
   ]
  },
  {
   "cell_type": "markdown",
   "id": "cellular-congress",
   "metadata": {},
   "source": [
    "### **__1차 전처리 Train/Test data**"
   ]
  },
  {
   "cell_type": "code",
   "execution_count": 11,
   "id": "harmful-survivor",
   "metadata": {},
   "outputs": [],
   "source": [
    "# train2 = pd.read_parquet('../DAT/pro_train.parquet')\n",
    "# test2 = pd.read_parquet('../DAT/pro_test.parquet')"
   ]
  },
  {
   "cell_type": "markdown",
   "id": "normal-singer",
   "metadata": {},
   "source": [
    "# **데이터 전처리**"
   ]
  },
  {
   "cell_type": "markdown",
   "id": "valuable-agriculture",
   "metadata": {},
   "source": [
    "## **_JJ 함수 적용**"
   ]
  },
  {
   "cell_type": "code",
   "execution_count": 17,
   "id": "raising-control",
   "metadata": {},
   "outputs": [],
   "source": [
    "train2 = jj.dist_(train)              # dist_: 출발지점의 위도,경도와 도착지점의 위도, 경도간의 거리\n",
    "train2 = jj.road_(train2)                 # road_: 도로 종류에 따른 범주형 변수 생성\n",
    "train2 = jj.weather_(train2, weather)     # weather_: 하루 전 날씨를 매칭\n",
    "train2 = jj.covid_(train2, covid19)       # covid_: 하루 전 코로나 확진자 수를 매칭\n",
    "train2 = jj.cat_onehot(train2)            # cat_onehot: 원 변수 중 범주형 변수들에 OneHotEncoding 적용\n",
    "print(\"==\"*50)\n",
    "test2 = jj.dist_(test)\n",
    "test2 = jj.road_(test2)\n",
    "test2 = jj.weather_(test2, weather)\n",
    "test2 = jj.covid_(test2, covid19)\n",
    "test2 = jj.cat_onehot(test2)"
   ]
  },
  {
   "cell_type": "markdown",
   "id": "hidden-philadelphia",
   "metadata": {},
   "source": [
    "## **_변수 제거 및 이름 변경**"
   ]
  },
  {
   "cell_type": "code",
   "execution_count": 13,
   "id": "cooked-review",
   "metadata": {},
   "outputs": [],
   "source": [
    "drop_var = [\"id\", \"height_restricted\", \"vehicle_restricted\", \"connect_code\", \"multi_linked\", \"start_node_name\", \"end_node_name\", \"road_name\", \"일시\", \"일자\"]\n",
    "train3 = train2.drop(columns = drop_var)\n",
    "test3 = test2.drop(columns = drop_var)\n",
    "train3.rename(columns = {'평균기온': \"temp\", '일강수량' : \"rain\", '평균풍속' : \"wind\", '평균상대습도' : \"humidity\", \n",
    "                         '합계일사량' : \"sunny\", '일최심적설' : \"snow\", '평균 지면온도' : \"land_temp\"}, inplace = True)\n",
    "test3.rename(columns = {'평균기온': \"temp\", '일강수량' : \"rain\", '평균풍속' : \"wind\", '평균상대습도' : \"humidity\", \n",
    "                        '합계일사량' : \"sunny\", '일최심적설' : \"snow\", '평균 지면온도' : \"land_temp\"}, inplace = True)\n",
    "\n",
    "# display(train3.head(3))\n",
    "# display(test3.head(3))"
   ]
  },
  {
   "cell_type": "markdown",
   "id": "apart-poverty",
   "metadata": {},
   "source": [
    "## **_추가 파생 변수 생성**"
   ]
  },
  {
   "cell_type": "code",
   "execution_count": 14,
   "id": "editorial-touch",
   "metadata": {},
   "outputs": [],
   "source": [
    "### 최대 속도제한 / 차선 수\n",
    "train3[\"mpl_lc\"] = train3[\"maximum_speed_limit\"] / train3[\"lane_count\"]\n",
    "test3[\"mpl_lc\"] = test3[\"maximum_speed_limit\"] / test3[\"lane_count\"]\n",
    "\n",
    "### 거리 / 차선 수\n",
    "train3[\"dist_lc\"] = train3[\"dist\"] / train3[\"lane_count\"]\n",
    "test3[\"dist_lc\"] = test3[\"dist\"] / test3[\"lane_count\"]"
   ]
  },
  {
   "cell_type": "code",
   "execution_count": 15,
   "id": "pregnant-constitution",
   "metadata": {},
   "outputs": [],
   "source": [
    "### 월 변수\n",
    "train3[\"month\"] = train3[\"base_date\"].dt.month\n",
    "train3.drop(columns = [\"base_date\"], inplace = True)\n",
    "train3 = jj.cat_onehot(train3, var = [\"month\"])\n",
    "\n",
    "\n",
    "test3[\"month\"] = test3[\"base_date\"].dt.month\n",
    "test3.drop(columns = [\"base_date\"], inplace = True)\n",
    "test3 = jj.cat_onehot(test3, var = [\"month\"])"
   ]
  },
  {
   "cell_type": "markdown",
   "id": "fa8330e2-6380-4f4b-a869-a86a4a59b820",
   "metadata": {},
   "source": [
    "## **_전처리 한 데이터 저장**"
   ]
  },
  {
   "cell_type": "code",
   "execution_count": 16,
   "id": "small-reservation",
   "metadata": {},
   "outputs": [],
   "source": [
    "print(train3.shape, test3.shape)\n",
    "train3.to_csv(\"../DAT/pro_train2.csv\", index = False)\n",
    "test3.to_csv(\"../DAT/pro_test2.csv\", index = False)\n",
    "csv_to_parquet('../DAT/pro_train2.csv', '../DAT/pro_train2')\n",
    "csv_to_parquet('../DAT/pro_test2.csv', '../DAT/pro_test2')"
   ]
  },
  {
   "cell_type": "code",
   "execution_count": 18,
   "id": "coral-fighter",
   "metadata": {},
   "outputs": [],
   "source": [
    "# train3 = pd.read_parquet('../DAT/pro_train2.parquet')\n",
    "# test3 = pd.read_parquet('../DAT/pro_test2.parquet')"
   ]
  },
  {
   "cell_type": "markdown",
   "id": "measured-killing",
   "metadata": {},
   "source": [
    "# **변수 관계 파악**"
   ]
  },
  {
   "cell_type": "markdown",
   "id": "b8d7b97a-2eef-47ae-8d82-7dca7bb81387",
   "metadata": {},
   "source": [
    "## **_변수 유형별 분류**"
   ]
  },
  {
   "cell_type": "code",
   "execution_count": 19,
   "id": "centered-contribution",
   "metadata": {},
   "outputs": [
    {
     "name": "stdout",
     "output_type": "stream",
     "text": [
      "24 21\n",
      "['day_of_week_1', 'day_of_week_2', 'end_turn_restricted_없음', 'end_turn_restricted_있음', 'road_name__1', 'road_name__2', 'road_name__3', 'road_name__4', 'road_name__5', 'road_name__6', 'road_rating_103', 'road_rating_106', 'road_rating_107', 'road_type_0', 'road_type_3', 'start_turn_restricted_없음', 'start_turn_restricted_있음', 'weight_restricted_0.0', 'weight_restricted_32400.0', 'weight_restricted_43200.0', 'weight_restricted_50000.0']\n"
     ]
    }
   ],
   "source": [
    "num_var = ['base_hour', 'lane_count', 'maximum_speed_limit', 'start_latitude', 'start_longitude', 'end_latitude', 'end_longitude', \n",
    "           \"dist\", 'dist_jeju_start', 'dist_jeju_end', 'dist_seoqui_start', 'dist_seoqui_end', \"dist_airport_start\", \"dist_airport_end\",\n",
    "           'temp', 'rain', 'wind', 'humidity', 'sunny', 'snow', 'land_temp', \"covid\",\n",
    "           \"mpl_lc\", \"dist_lc\"]\n",
    "weather_var = ['temp', 'rain', 'wind', 'humidity', 'sunny', 'snow', 'land_temp', \"covid\"]\n",
    "cat_var = sorted( list(set(train3.columns) - set(num_var) - set([\"target\"])) )\n",
    "print(len(num_var), len(cat_var))\n",
    "print(cat_var)"
   ]
  },
  {
   "cell_type": "markdown",
   "id": "83bb11e7-fcc3-42d9-b37d-1ee52a73f2bc",
   "metadata": {},
   "source": [
    "## **_연속형 변수: 상관관계**"
   ]
  },
  {
   "cell_type": "code",
   "execution_count": 20,
   "id": "nominated-yahoo",
   "metadata": {},
   "outputs": [
    {
     "data": {
      "text/html": [
       "<div>\n",
       "<style scoped>\n",
       "    .dataframe tbody tr th:only-of-type {\n",
       "        vertical-align: middle;\n",
       "    }\n",
       "\n",
       "    .dataframe tbody tr th {\n",
       "        vertical-align: top;\n",
       "    }\n",
       "\n",
       "    .dataframe thead th {\n",
       "        text-align: right;\n",
       "    }\n",
       "</style>\n",
       "<table border=\"1\" class=\"dataframe\">\n",
       "  <thead>\n",
       "    <tr style=\"text-align: right;\">\n",
       "      <th></th>\n",
       "      <th>base_hour</th>\n",
       "      <th>lane_count</th>\n",
       "      <th>maximum_speed_limit</th>\n",
       "      <th>start_latitude</th>\n",
       "      <th>start_longitude</th>\n",
       "      <th>end_latitude</th>\n",
       "      <th>end_longitude</th>\n",
       "      <th>dist</th>\n",
       "      <th>dist_jeju_start</th>\n",
       "      <th>dist_jeju_end</th>\n",
       "      <th>...</th>\n",
       "      <th>rain</th>\n",
       "      <th>wind</th>\n",
       "      <th>humidity</th>\n",
       "      <th>sunny</th>\n",
       "      <th>snow</th>\n",
       "      <th>land_temp</th>\n",
       "      <th>covid</th>\n",
       "      <th>mpl_lc</th>\n",
       "      <th>dist_lc</th>\n",
       "      <th>target</th>\n",
       "    </tr>\n",
       "  </thead>\n",
       "  <tbody>\n",
       "    <tr>\n",
       "      <th>target</th>\n",
       "      <td>-0.159407</td>\n",
       "      <td>-0.144256</td>\n",
       "      <td>0.425715</td>\n",
       "      <td>0.03628</td>\n",
       "      <td>-0.001168</td>\n",
       "      <td>0.036139</td>\n",
       "      <td>-0.001</td>\n",
       "      <td>0.181093</td>\n",
       "      <td>0.102714</td>\n",
       "      <td>0.103665</td>\n",
       "      <td>...</td>\n",
       "      <td>0.002595</td>\n",
       "      <td>0.004884</td>\n",
       "      <td>-0.024696</td>\n",
       "      <td>-0.029595</td>\n",
       "      <td>-0.008309</td>\n",
       "      <td>-0.039296</td>\n",
       "      <td>-0.000157</td>\n",
       "      <td>0.315723</td>\n",
       "      <td>0.147172</td>\n",
       "      <td>1.0</td>\n",
       "    </tr>\n",
       "  </tbody>\n",
       "</table>\n",
       "<p>1 rows × 25 columns</p>\n",
       "</div>"
      ],
      "text/plain": [
       "        base_hour  lane_count  maximum_speed_limit  start_latitude  \\\n",
       "target  -0.159407   -0.144256             0.425715         0.03628   \n",
       "\n",
       "        start_longitude  end_latitude  end_longitude      dist  \\\n",
       "target        -0.001168      0.036139         -0.001  0.181093   \n",
       "\n",
       "        dist_jeju_start  dist_jeju_end  ...      rain      wind  humidity  \\\n",
       "target         0.102714       0.103665  ...  0.002595  0.004884 -0.024696   \n",
       "\n",
       "           sunny      snow  land_temp     covid    mpl_lc   dist_lc  target  \n",
       "target -0.029595 -0.008309  -0.039296 -0.000157  0.315723  0.147172     1.0  \n",
       "\n",
       "[1 rows x 25 columns]"
      ]
     },
     "metadata": {},
     "output_type": "display_data"
    },
    {
     "data": {
      "image/png": "[encoded data removed]",
      "text/plain": [
       "<Figure size 800x550 with 1 Axes>"
      ]
     },
     "metadata": {},
     "output_type": "display_data"
    }
   ],
   "source": [
    "display(train3[num_var + [\"target\"]].corr().iloc[[-1],:])\n",
    "X, y = train3[num_var], train3[\"target\"]\n",
    "features = np.array(num_var)\n",
    "visualizer = FeatureCorrelation(labels = num_var)\n",
    "visualizer.fit(X, y);"
   ]
  },
  {
   "cell_type": "markdown",
   "id": "d937c41c-5906-423c-aa08-9311344b956a",
   "metadata": {},
   "source": [
    "## **_범주형 변수에 따른 Target 범위**"
   ]
  },
  {
   "cell_type": "code",
   "execution_count": 22,
   "id": "wooden-franchise",
   "metadata": {},
   "outputs": [
    {
     "name": "stdout",
     "output_type": "stream",
     "text": [
      "day_of_week_1 - 평균 : 42.83910| 최소 : 1.00000| 최대 : 112.00000\n",
      "day_of_week_2 - 평균 : 42.75000| 최소 : 1.00000| 최대 : 113.00000\n",
      "end_turn_restricted_없음 - 평균 : 43.64560| 최소 : 1.00000| 최대 : 113.00000\n",
      "end_turn_restricted_있음 - 평균 : 34.91620| 최소 : 1.00000| 최대 : 98.00000\n",
      "road_name__1 - 평균 : 46.47910| 최소 : 1.00000| 최대 : 113.00000\n",
      "road_name__2 - 평균 : 33.06290| 최소 : 1.00000| 최대 : 98.00000\n",
      "road_name__3 - 평균 : 38.45850| 최소 : 3.00000| 최대 : 75.00000\n",
      "road_name__4 - 평균 : 47.37680| 최소 : 1.00000| 최대 : 99.00000\n",
      "road_name__5 - 평균 : 24.98080| 최소 : 4.00000| 최대 : 54.00000\n",
      "road_name__6 - 평균 : 44.77460| 최소 : 1.00000| 최대 : 94.00000\n",
      "road_rating_103 - 평균 : 46.38850| 최소 : 1.00000| 최대 : 113.00000\n",
      "road_rating_106 - 평균 : 48.02150| 최소 : 1.00000| 최대 : 99.00000\n",
      "road_rating_107 - 평균 : 34.70140| 최소 : 1.00000| 최대 : 94.00000\n",
      "road_type_0 - 평균 : 41.16090| 최소 : 1.00000| 최대 : 113.00000\n",
      "road_type_3 - 평균 : 49.09710| 최소 : 3.00000| 최대 : 103.00000\n",
      "start_turn_restricted_없음 - 평균 : 43.61020| 최소 : 1.00000| 최대 : 113.00000\n",
      "start_turn_restricted_있음 - 평균 : 35.23900| 최소 : 2.00000| 최대 : 98.00000\n",
      "weight_restricted_0.0 - 평균 : 40.95570| 최소 : 1.00000| 최대 : 113.00000\n",
      "weight_restricted_32400.0 - 평균 : 47.45340| 최소 : 3.00000| 최대 : 86.00000\n",
      "weight_restricted_43200.0 - 평균 : 57.88390| 최소 : 3.00000| 최대 : 103.00000\n",
      "weight_restricted_50000.0 - 평균 : 47.08870| 최소 : 11.00000| 최대 : 67.00000\n"
     ]
    }
   ],
   "source": [
    "for i in range(len(cat_var)) :\n",
    "    target = train3[train3[cat_var[i]] == 1][\"target\"]\n",
    "    print(\"%s - 평균 : %.5f| 최소 : %.5f| 최대 : %.5f\" % (cat_var[i], np.round(target.mean(), 4), np.round(target.min(), 4), np.round(target.max(), 4)))"
   ]
  },
  {
   "cell_type": "code",
   "execution_count": 23,
   "id": "imperial-anatomy",
   "metadata": {},
   "outputs": [
    {
     "data": {
      "image/png": "[encoded data removed]",
      "text/plain": [
       "<Figure size 2000x300 with 1 Axes>"
      ]
     },
     "metadata": {},
     "output_type": "display_data"
    }
   ],
   "source": [
    "plt.figure(figsize = (20,3))\n",
    "plt.plot(train3[\"maximum_speed_limit\"]);"
   ]
  },
  {
   "cell_type": "markdown",
   "id": "921c5c43-57fe-4651-b8cd-cde6b5ef3d7f",
   "metadata": {},
   "source": [
    "## **_차선 수에 따른 Target 평균**"
   ]
  },
  {
   "cell_type": "code",
   "execution_count": 24,
   "id": "recovered-width",
   "metadata": {},
   "outputs": [
    {
     "name": "stdout",
     "output_type": "stream",
     "text": [
      "lane count(1) : 43.5706\n",
      "lane count(2) : 44.9157\n",
      "lane count(3) : 34.9178\n"
     ]
    }
   ],
   "source": [
    "for i in range(1, 4, 1) : \n",
    "    target_mean = train3[train3[\"lane_count\"] == i].target.mean()\n",
    "    print(\"lane count(%d) : %.4f\" % (i, target_mean))"
   ]
  },
  {
   "cell_type": "code",
   "execution_count": 22,
   "id": "employed-indie",
   "metadata": {},
   "outputs": [],
   "source": [
    "# train3 = train3.drop(index = train3[train3[\"target\"] >= 85].index).reset_index(drop = True)"
   ]
  },
  {
   "cell_type": "code",
   "execution_count": 24,
   "id": "interracial-roberts",
   "metadata": {},
   "outputs": [],
   "source": [
    "# for i in range(len(cat_var)) : \n",
    "#     target_mean = train3[train3[cat_var[i]] == 1].target.mean()\n",
    "#     print(\"%s (%d) : %.4f\" % (cat_var[i], train3[train3[cat_var[i]] == 1].shape[0], target_mean))"
   ]
  },
  {
   "cell_type": "code",
   "execution_count": null,
   "id": "enclosed-freight",
   "metadata": {},
   "outputs": [],
   "source": []
  }
 ],
 "metadata": {
  "kernelspec": {
   "display_name": "Python 3 (ipykernel)",
   "language": "python",
   "name": "python3"
  },
  "language_info": {
   "codemirror_mode": {
    "name": "ipython",
    "version": 3
   },
   "file_extension": ".py",
   "mimetype": "text/x-python",
   "name": "python",
   "nbconvert_exporter": "python",
   "pygments_lexer": "ipython3",
   "version": "3.8.7"
  }
 },
 "nbformat": 4,
 "nbformat_minor": 5
}
