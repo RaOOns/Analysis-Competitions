{
 "cells": [
  {
   "cell_type": "markdown",
   "id": "prerequisite-arlington",
   "metadata": {},
   "source": [
    "# **Import pacakges**"
   ]
  },
  {
   "cell_type": "code",
   "execution_count": 29,
   "id": "mature-title",
   "metadata": {},
   "outputs": [],
   "source": [
    "import pandas as pd\n",
    "import numpy as np\n",
    "import matplotlib.pyplot as plt\n",
    "from tqdm.notebook import tqdm\n",
    "\n",
    "from datetime import datetime, timedelta\n",
    "import time \n",
    "\n",
    "from sklearn.ensemble import RandomForestClassifier, RandomForestRegressor, ExtraTreesClassifier, ExtraTreesRegressor, GradientBoostingRegressor\n",
    "from sklearn.preprocessing import LabelEncoder, StandardScaler\n",
    "from sklearn.model_selection import train_test_split\n",
    "from sklearn.metrics import mean_absolute_error, f1_score\n",
    "\n",
    "from catboost import CatBoostRegressor, CatBoostClassifier\n",
    "from xgboost import XGBRegressor, XGBClassifier\n",
    "from lightgbm import LGBMRegressor, LGBMClassifier\n",
    "from sklearn.ensemble import AdaBoostRegressor\n",
    "from sklearn.svm import SVR\n",
    "from scipy import stats\n",
    "from sklearn.decomposition import PCA\n",
    "\n",
    "from sklearn.experimental import enable_iterative_imputer\n",
    "from sklearn.impute import IterativeImputer\n",
    "from sklearn.linear_model import BayesianRidge\n",
    "\n",
    "import warnings\n",
    "warnings.filterwarnings(action='ignore')"
   ]
  },
  {
   "cell_type": "markdown",
   "id": "marine-theta",
   "metadata": {},
   "source": [
    "# **Data**"
   ]
  },
  {
   "cell_type": "code",
   "execution_count": 2,
   "id": "mexican-collection",
   "metadata": {},
   "outputs": [
    {
     "name": "stdout",
     "output_type": "stream",
     "text": [
      "(14095, 53) (6041, 18)\n"
     ]
    }
   ],
   "source": [
    "train = pd.read_csv(\"../DAT/train.csv\")\n",
    "test = pd.read_csv(\"../DAT/test.csv\")\n",
    "\n",
    "train.drop(columns = [\"ID\"], inplace = True)\n",
    "test.drop(columns = [\"ID\"], inplace = True)\n",
    "print(train.shape, test.shape)"
   ]
  },
  {
   "cell_type": "code",
   "execution_count": 7,
   "id": "appropriate-partnership",
   "metadata": {},
   "outputs": [],
   "source": [
    "train[\"COMPONENT_ARBITRARY\"] = LabelEncoder().fit_transform(train[\"COMPONENT_ARBITRARY\"])\n",
    "test[\"COMPONENT_ARBITRARY\"] = LabelEncoder().fit_transform(test[\"COMPONENT_ARBITRARY\"])"
   ]
  },
  {
   "cell_type": "markdown",
   "id": "mobile-purpose",
   "metadata": {},
   "source": [
    "## **_변수 종류에 따라 분류**\n",
    "- cat_col: 범주형 변수\n",
    "- te_col: 테스트 데이터에 있는 변수\n",
    "- tr_col: 훈련 데이터에\"만\" 있는 변수"
   ]
  },
  {
   "cell_type": "code",
   "execution_count": 9,
   "id": "baking-latex",
   "metadata": {},
   "outputs": [
    {
     "name": "stdout",
     "output_type": "stream",
     "text": [
      "35 17 1\n"
     ]
    }
   ],
   "source": [
    "cat_col = [\"COMPONENT_ARBITRARY\"]\n",
    "te_col = list(set(test.columns) - set(cat_col))\n",
    "tr_col = list(set(train.columns) - set(te_col) - set(cat_col))\n",
    "print(len(tr_col), len(te_col), len(cat_col))"
   ]
  },
  {
   "cell_type": "markdown",
   "id": "ignored-birth",
   "metadata": {},
   "source": [
    "## **_결측치 처리**\n",
    "- 20%이하는 0으로 대체\n",
    "- 20%초과는 제거\n",
    "- use_tr_col: 결측치 제거 후 사용할 변수"
   ]
  },
  {
   "cell_type": "code",
   "execution_count": 10,
   "id": "removed-vampire",
   "metadata": {},
   "outputs": [],
   "source": [
    "null_20 = (train[tr_col].isnull().sum() <= len(train)*0.20)\n",
    "use_tr_col = sorted(list(null_20[null_20 == True].index))"
   ]
  },
  {
   "cell_type": "code",
   "execution_count": 11,
   "id": "rapid-constitutional",
   "metadata": {},
   "outputs": [
    {
     "name": "stdout",
     "output_type": "stream",
     "text": [
      "0\n"
     ]
    },
    {
     "data": {
      "text/html": [
       "<div>\n",
       "<style scoped>\n",
       "    .dataframe tbody tr th:only-of-type {\n",
       "        vertical-align: middle;\n",
       "    }\n",
       "\n",
       "    .dataframe tbody tr th {\n",
       "        vertical-align: top;\n",
       "    }\n",
       "\n",
       "    .dataframe thead th {\n",
       "        text-align: right;\n",
       "    }\n",
       "</style>\n",
       "<table border=\"1\" class=\"dataframe\">\n",
       "  <thead>\n",
       "    <tr style=\"text-align: right;\">\n",
       "      <th></th>\n",
       "      <th>AL</th>\n",
       "      <th>B</th>\n",
       "      <th>BA</th>\n",
       "      <th>BE</th>\n",
       "      <th>CA</th>\n",
       "      <th>CD</th>\n",
       "      <th>K</th>\n",
       "      <th>LI</th>\n",
       "      <th>MG</th>\n",
       "      <th>NA</th>\n",
       "      <th>...</th>\n",
       "      <th>ZN</th>\n",
       "      <th>CU</th>\n",
       "      <th>NI</th>\n",
       "      <th>V</th>\n",
       "      <th>H2O</th>\n",
       "      <th>YEAR</th>\n",
       "      <th>MO</th>\n",
       "      <th>ANONYMOUS_2</th>\n",
       "      <th>V40</th>\n",
       "      <th>COMPONENT_ARBITRARY</th>\n",
       "    </tr>\n",
       "  </thead>\n",
       "  <tbody>\n",
       "    <tr>\n",
       "      <th>0</th>\n",
       "      <td>3</td>\n",
       "      <td>93</td>\n",
       "      <td>0</td>\n",
       "      <td>0</td>\n",
       "      <td>3059</td>\n",
       "      <td>0.0</td>\n",
       "      <td>27.0</td>\n",
       "      <td>1</td>\n",
       "      <td>14</td>\n",
       "      <td>16</td>\n",
       "      <td>...</td>\n",
       "      <td>75</td>\n",
       "      <td>78</td>\n",
       "      <td>6</td>\n",
       "      <td>0</td>\n",
       "      <td>0.0</td>\n",
       "      <td>2011</td>\n",
       "      <td>1</td>\n",
       "      <td>200</td>\n",
       "      <td>154.0</td>\n",
       "      <td>2</td>\n",
       "    </tr>\n",
       "    <tr>\n",
       "      <th>1</th>\n",
       "      <td>2</td>\n",
       "      <td>19</td>\n",
       "      <td>0</td>\n",
       "      <td>0</td>\n",
       "      <td>2978</td>\n",
       "      <td>0.0</td>\n",
       "      <td>0.0</td>\n",
       "      <td>0</td>\n",
       "      <td>1</td>\n",
       "      <td>1</td>\n",
       "      <td>...</td>\n",
       "      <td>652</td>\n",
       "      <td>31</td>\n",
       "      <td>0</td>\n",
       "      <td>0</td>\n",
       "      <td>0.0</td>\n",
       "      <td>2021</td>\n",
       "      <td>0</td>\n",
       "      <td>375</td>\n",
       "      <td>44.0</td>\n",
       "      <td>1</td>\n",
       "    </tr>\n",
       "    <tr>\n",
       "      <th>2</th>\n",
       "      <td>110</td>\n",
       "      <td>1</td>\n",
       "      <td>1</td>\n",
       "      <td>0</td>\n",
       "      <td>17</td>\n",
       "      <td>0.0</td>\n",
       "      <td>0.0</td>\n",
       "      <td>0</td>\n",
       "      <td>0</td>\n",
       "      <td>2</td>\n",
       "      <td>...</td>\n",
       "      <td>412</td>\n",
       "      <td>2</td>\n",
       "      <td>0</td>\n",
       "      <td>0</td>\n",
       "      <td>0.0</td>\n",
       "      <td>2015</td>\n",
       "      <td>0</td>\n",
       "      <td>200</td>\n",
       "      <td>72.6</td>\n",
       "      <td>1</td>\n",
       "    </tr>\n",
       "  </tbody>\n",
       "</table>\n",
       "<p>3 rows × 36 columns</p>\n",
       "</div>"
      ],
      "text/plain": [
       "    AL   B  BA  BE    CA   CD     K  LI  MG  NA  ...   ZN  CU  NI  V  H2O  \\\n",
       "0    3  93   0   0  3059  0.0  27.0   1  14  16  ...   75  78   6  0  0.0   \n",
       "1    2  19   0   0  2978  0.0   0.0   0   1   1  ...  652  31   0  0  0.0   \n",
       "2  110   1   1   0    17  0.0   0.0   0   0   2  ...  412   2   0  0  0.0   \n",
       "\n",
       "   YEAR  MO  ANONYMOUS_2    V40  COMPONENT_ARBITRARY  \n",
       "0  2011   1          200  154.0                    2  \n",
       "1  2021   0          375   44.0                    1  \n",
       "2  2015   0          200   72.6                    1  \n",
       "\n",
       "[3 rows x 36 columns]"
      ]
     },
     "execution_count": 11,
     "metadata": {},
     "output_type": "execute_result"
    }
   ],
   "source": [
    "use_train = train[use_tr_col + te_col + cat_col].fillna(0)\n",
    "print(use_train.isnull().sum().sum())\n",
    "use_train.head(3)"
   ]
  },
  {
   "cell_type": "markdown",
   "id": "brutal-creation",
   "metadata": {},
   "source": [
    "## **_변수 종류에 따라 분류**"
   ]
  },
  {
   "cell_type": "code",
   "execution_count": 25,
   "id": "speaking-enforcement",
   "metadata": {},
   "outputs": [],
   "source": [
    "target = [\"Y_LABEL\"]\n",
    "\n",
    "### Train에만 있는 변수\n",
    "use_tr_col = sorted(list(set(use_train.columns) - set(te_col)))\n",
    "use_tr_col_ = list(set(use_tr_col) - set(target))\n",
    "\n",
    "### 모든 변수\n",
    "use_col = use_tr_col + te_col\n",
    "use_col_ = sorted(list(set(use_col) - set(target)))"
   ]
  },
  {
   "cell_type": "markdown",
   "id": "wooden-viking",
   "metadata": {},
   "source": [
    "# **Validation**"
   ]
  },
  {
   "cell_type": "code",
   "execution_count": 12,
   "id": "saving-workstation",
   "metadata": {},
   "outputs": [],
   "source": [
    "def MAPE(true, pred) :\n",
    "    import numpy as np\n",
    "    mape = np.mean(np.abs((np.array(true) - np.array(pred)) / (np.array(true)+0.000000001))) * 100\n",
    "    return np.round(mape, 3)"
   ]
  },
  {
   "cell_type": "markdown",
   "id": "reflected-smooth",
   "metadata": {},
   "source": [
    "## **_Train/Valid split**"
   ]
  },
  {
   "cell_type": "code",
   "execution_count": 13,
   "id": "relative-scanning",
   "metadata": {},
   "outputs": [
    {
     "name": "stdout",
     "output_type": "stream",
     "text": [
      "(9866, 35) (4229, 35) (9866,) (4229,)\n"
     ]
    }
   ],
   "source": [
    "train_X, valid_X, train_y, valid_y = train_test_split(use_train.drop(columns = [\"Y_LABEL\"]), use_train[\"Y_LABEL\"], \n",
    "                                                      test_size = 0.3, shuffle = True, random_state = 717, stratify = use_train[\"Y_LABEL\"])\n",
    "\n",
    "train_X = train_X.reset_index(drop = True)\n",
    "train_y = train_y.reset_index(drop = True)\n",
    "valid_X = valid_X.reset_index(drop = True)\n",
    "valid_y = valid_y.reset_index(drop = True)\n",
    "\n",
    "print(train_X.shape, valid_X.shape, train_y.shape, valid_y.shape)"
   ]
  },
  {
   "cell_type": "markdown",
   "id": "constant-stage",
   "metadata": {},
   "source": [
    "## **_범주형 변수 처리**"
   ]
  },
  {
   "cell_type": "code",
   "execution_count": 14,
   "id": "actual-marking",
   "metadata": {},
   "outputs": [],
   "source": [
    "### One Hot Encodng\n",
    "tr_cat_oh = pd.get_dummies(train_X[cat_col].astype(str))\n",
    "vd_cat_oh = pd.get_dummies(valid_X[cat_col].astype(str))\n",
    "\n",
    "### Label Encodng\n",
    "tr_cat_lb = pd.DataFrame(LabelEncoder().fit_transform(train_X[cat_col]))\n",
    "vd_cat_lb = pd.DataFrame(LabelEncoder().fit_transform(valid_X[cat_col]))\n",
    "\n",
    "### One Hot & Label Encoding\n",
    "tr_cat_ol = pd.concat([tr_cat_lb, tr_cat_oh], axis = 1)\n",
    "vd_cat_ol = pd.concat([vd_cat_lb, vd_cat_oh], axis = 1)"
   ]
  },
  {
   "cell_type": "markdown",
   "id": "elegant-monkey",
   "metadata": {},
   "source": [
    "## **_Train에만 있는 변수 생성**\n",
    "\n",
    "- Test에서 사용 가능한 변수로 Train에 존재하는 변수 생성\n",
    "- MAPE 기준 가장 좋았던 \"S\" 변수만 생성"
   ]
  },
  {
   "cell_type": "code",
   "execution_count": 15,
   "id": "increased-france",
   "metadata": {},
   "outputs": [],
   "source": [
    "def make_col(col, train_X, valid_X_, tr_cat, vd_cat, training= True) :\n",
    "    make_ = pd.DataFrame()\n",
    "    col_ = valid_X_.columns\n",
    "    print(col_)\n",
    "    std = StandardScaler().fit(train_X[col_])\n",
    "    st_train_X = pd.concat([pd.DataFrame(std.transform(train_X[col_]), columns = col_), tr_cat], axis = 1)\n",
    "    st_valid_X = pd.concat([pd.DataFrame(std.transform(valid_X_[col_]), columns = col_), vd_cat], axis = 1)\n",
    "    \n",
    "    for col__ in tqdm(col) : \n",
    "        target_ = col__\n",
    "        model = ExtraTreesRegressor(random_state = 717, n_estimators = 200).fit(st_train_X, train_X[target_])\n",
    "        pred = model.predict(st_valid_X)    \n",
    "        make_[target_] = pred\n",
    "        \n",
    "        if training == True :\n",
    "            print(\"ET: \", target_, MAPE(valid_X[target_], pred))\n",
    "\n",
    "    return make_    "
   ]
  },
  {
   "cell_type": "code",
   "execution_count": 16,
   "id": "sitting-mother",
   "metadata": {},
   "outputs": [
    {
     "name": "stdout",
     "output_type": "stream",
     "text": [
      "Index(['PQINDEX', 'MN', 'CO', 'CR', 'TI', 'FE', 'AG', 'ANONYMOUS_1', 'ZN',\n",
      "       'CU', 'NI', 'V', 'H2O', 'YEAR', 'MO', 'ANONYMOUS_2', 'V40'],\n",
      "      dtype='object')\n"
     ]
    },
    {
     "data": {
      "application/json": {
       "ascii": false,
       "bar_format": null,
       "colour": null,
       "elapsed": 0.005945444107055664,
       "initial": 0,
       "n": 0,
       "ncols": null,
       "nrows": 49,
       "postfix": null,
       "prefix": "",
       "rate": null,
       "total": 1,
       "unit": "it",
       "unit_divisor": 1000,
       "unit_scale": false
      },
      "application/vnd.jupyter.widget-view+json": {
       "model_id": "c004ba207c8b450fa0ba03f06498f3a7",
       "version_major": 2,
       "version_minor": 0
      },
      "text/plain": [
       "  0%|          | 0/1 [00:00<?, ?it/s]"
      ]
     },
     "metadata": {},
     "output_type": "display_data"
    },
    {
     "name": "stdout",
     "output_type": "stream",
     "text": [
      "ET:  S 21.89\n",
      "(4229, 18)\n"
     ]
    }
   ],
   "source": [
    "# valid_X_ : test에만 있는 변수만으로 구성\n",
    "valid_X_ = valid_X[te_col]\n",
    "\n",
    "# \"S\" 변수 추가\n",
    "valid_X_[\"S\"] = make_col([\"S\"], train_X = train_X, valid_X_ = valid_X_, tr_cat = tr_cat_oh, vd_cat = vd_cat_oh)\n",
    "print(valid_X_.shape)"
   ]
  },
  {
   "cell_type": "markdown",
   "id": "through-entrance",
   "metadata": {},
   "source": [
    "## **_파생변수 생성**"
   ]
  },
  {
   "cell_type": "markdown",
   "id": "unlimited-wealth",
   "metadata": {},
   "source": [
    "### **__PCA 변수 생성**\n",
    "\n",
    "- train에만 있는 변수 정보를 PCA로 축약하여 이를 test에만 있는 변수 정보로 생성"
   ]
  },
  {
   "cell_type": "code",
   "execution_count": 19,
   "id": "presidential-creek",
   "metadata": {},
   "outputs": [],
   "source": [
    "### 표준화\n",
    "st_train_X = pd.DataFrame(StandardScaler().fit_transform(train_X), columns = train_X.columns)\n",
    "st_valid_X_ = StandardScaler().fit_transform(valid_X_[te_col])\n",
    "\n",
    "### Train에만 있는 변수를 PCA\n",
    "pca = PCA(n_components = 7, random_state = 717).fit(st_train_X[use_tr_col_])\n",
    "pca_fit = pca.transform(st_train_X[use_tr_col_])\n",
    "\n",
    "train_X[\"pca1\"] = pca_fit[:,0]\n",
    "train_X[\"pca2\"] = pca_fit[:,1]\n",
    "train_X[\"pca3\"] = pca_fit[:,2]\n",
    "\n",
    "\n",
    "### Test에만 있는 변수로 위 PCA 값을 생성\n",
    "pca1_model = ExtraTreesRegressor(random_state = 717, n_estimators = 100).fit(st_train_X[te_col], pca_fit[:,0])\n",
    "pca2_model = ExtraTreesRegressor(random_state = 717, n_estimators = 100).fit(st_train_X[te_col], pca_fit[:,1])\n",
    "pca3_model = ExtraTreesRegressor(random_state = 717, n_estimators = 100).fit(st_train_X[te_col], pca_fit[:,2])\n",
    "    \n",
    "valid_X_[\"pca1\"] = pca1_model.predict(st_valid_X_)\n",
    "valid_X_[\"pca2\"] = pca2_model.predict(st_valid_X_)\n",
    "valid_X_[\"pca3\"] = pca3_model.predict(st_valid_X_)"
   ]
  },
  {
   "cell_type": "code",
   "execution_count": 20,
   "id": "hindu-dairy",
   "metadata": {},
   "outputs": [
    {
     "name": "stdout",
     "output_type": "stream",
     "text": [
      "[0.10524854 0.09831316 0.07932496 0.0708676  0.06734925 0.05868314\n",
      " 0.05676373]\n",
      "0.0\n",
      "0.0\n",
      "0.0\n"
     ]
    }
   ],
   "source": [
    "print(pca.explained_variance_ratio_)\n",
    "print(MAPE(pca_fit[:,0], pca1_model.predict(st_train_X[te_col])))\n",
    "print(MAPE(pca_fit[:,1], pca2_model.predict(st_train_X[te_col])))\n",
    "print(MAPE(pca_fit[:,2], pca3_model.predict(st_train_X[te_col])))"
   ]
  },
  {
   "cell_type": "markdown",
   "id": "sudden-lingerie",
   "metadata": {},
   "source": [
    "### **__기타 파생변수 생성**"
   ]
  },
  {
   "cell_type": "code",
   "execution_count": 21,
   "id": "black-rhythm",
   "metadata": {},
   "outputs": [],
   "source": [
    "train_X[\"total_ppm\"] = train_X[[\"AG\", \"CO\", \"CR\", \"CU\", \"FE\", \"MN\", \"MO\", \"NI\", \"TI\", \"V\", \"ZN\", \"H2O\"]].sum(axis = 1)\n",
    "valid_X_[\"total_ppm\"] = valid_X_[[\"AG\", \"CO\", \"CR\", \"CU\", \"FE\", \"MN\", \"MO\", \"NI\", \"TI\", \"V\", \"ZN\", \"H2O\"]].sum(axis = 1)\n",
    "\n",
    "train_X[\"ANO1\"] = train_X[\"ANONYMOUS_1\"] / train_X[\"ANONYMOUS_2\"]\n",
    "valid_X_[\"ANO1\"] = valid_X_[\"ANONYMOUS_1\"] / valid_X_[\"ANONYMOUS_2\"]"
   ]
  },
  {
   "cell_type": "markdown",
   "id": "developmental-picture",
   "metadata": {},
   "source": [
    "## **_모델 생성**\n",
    "- Knowledge Deistillation 개념 사용\n",
    "- 상관관계에 따른 변수 재배열\n",
    "- 파생 변수 사용\n",
    "- 앙상블 사용\n",
    "- 최적의 Threshold "
   ]
  },
  {
   "cell_type": "markdown",
   "id": "approved-verse",
   "metadata": {},
   "source": [
    "### **__범주형 Y를 확률값으로 변경**"
   ]
  },
  {
   "cell_type": "code",
   "execution_count": 27,
   "id": "timely-bunny",
   "metadata": {},
   "outputs": [
    {
     "name": "stdout",
     "output_type": "stream",
     "text": [
      "1.0\n"
     ]
    }
   ],
   "source": [
    "st_train_X = pd.concat([pd.DataFrame(StandardScaler().fit_transform(train_X[use_col_]), columns = use_col_), tr_cat_oh], axis = 1)\n",
    "\n",
    "model_proba = RandomForestClassifier(random_state = 717, n_estimators = 100).fit(st_train_X[use_col_], train_y)\n",
    "pred_proba = model_proba.predict_proba(st_train_X[use_col_])[:,1]\n",
    "\n",
    "print(np.round(f1_score(train_y, np.round(pred_proba, 0).astype(int), average = \"macro\"), 5)) "
   ]
  },
  {
   "cell_type": "markdown",
   "id": "aging-message",
   "metadata": {},
   "source": [
    "### **__모델에 사용할 변수 정의**"
   ]
  },
  {
   "cell_type": "code",
   "execution_count": 33,
   "id": "exact-isaac",
   "metadata": {},
   "outputs": [
    {
     "name": "stdout",
     "output_type": "stream",
     "text": [
      "사용할 추가 변수:  ['S', 'total_ppm']\n"
     ]
    }
   ],
   "source": [
    "### 파생 변수 중 사용할 변수\n",
    "add_col = [\"S\", \"total_ppm\"]\n",
    "print(\"사용할 추가 변수: \", add_col)\n",
    "\n",
    "\n",
    "### 범주형 변수 유형 선택(OH or LB)\n",
    "tr_cat = tr_cat_oh\n",
    "vd_cat = vd_cat_oh\n",
    "\n",
    "### 표준화: train_x와 valid_x의 변수가 다름을 주의\n",
    "st_train_X = pd.concat([pd.DataFrame(StandardScaler().fit_transform(train_X), columns = train_X.columns), tr_cat], axis = 1)    \n",
    "std = StandardScaler().fit(train_X[te_col + add_col])\n",
    "st_valid_X = pd.concat([pd.DataFrame(std.transform(valid_X_[te_col + add_col]), columns = te_col + add_col), vd_cat], axis = 1)"
   ]
  },
  {
   "cell_type": "markdown",
   "id": "e043cd07-ce61-4796-876e-f1e4df4751c4",
   "metadata": {},
   "source": [
    "### **__Fit and Predict**"
   ]
  },
  {
   "cell_type": "code",
   "execution_count": 34,
   "id": "presidential-prize",
   "metadata": {},
   "outputs": [
    {
     "name": "stdout",
     "output_type": "stream",
     "text": [
      "변수 순서: ['YEAR', 'FE', 'NI', 'ANONYMOUS_1', 'CR', 'V', 'total_ppm', 'MN', 'TI', 'PQINDEX', 'ANONYMOUS_2', 'S', 'CU', 'AG', 'V40', 'ZN', 'CO', 'MO', 'H2O', 'COMPONENT_ARBITRARY_0', 'COMPONENT_ARBITRARY_1', 'COMPONENT_ARBITRARY_2', 'COMPONENT_ARBITRARY_3']\n"
     ]
    }
   ],
   "source": [
    "# 변수 순서를 pred_proba와 상관관계가 높은 순으로 배열\n",
    "corr_df = st_train_X.loc[:,te_col + add_col]\n",
    "corr_df[\"proba\"] = pred_proba\n",
    "corr_idx = list(np.abs(corr_df.corr().loc[\"proba\", :]).sort_values(ascending = False)[1:].index)\n",
    "corr_idx += list(vd_cat.columns)\n",
    "print(\"변수 순서:\", corr_idx)"
   ]
  },
  {
   "cell_type": "code",
   "execution_count": 35,
   "id": "fc3fb325-28f6-41dd-9069-d179db03e6a0",
   "metadata": {},
   "outputs": [],
   "source": [
    "SEED = 717\n",
    "model_dict = {}\n",
    "model_dict[\"RF\"] = RandomForestRegressor(random_state = SEED)\n",
    "model_dict[\"ET\"] = ExtraTreesRegressor(random_state = SEED)\n",
    "model_dict[\"LGBM\"] = LGBMRegressor(random_state = SEED)\n",
    "model_dict[\"XGB\"] = XGBRegressor(random_state = SEED)\n",
    "model_dict[\"GB\"] = GradientBoostingRegressor(random_state = SEED)\n",
    "model_dict[\"CAT\"] = CatBoostRegressor(random_state = SEED, silent = True)"
   ]
  },
  {
   "cell_type": "code",
   "execution_count": 38,
   "id": "0eecff38-4efe-4c31-9f79-b4b3fb08e249",
   "metadata": {},
   "outputs": [
    {
     "data": {
      "text/plain": [
       "array([0.0844, 0.0443, 0.1586, ..., 0.0864, 0.0819, 0.0541])"
      ]
     },
     "execution_count": 38,
     "metadata": {},
     "output_type": "execute_result"
    }
   ],
   "source": [
    "pred"
   ]
  },
  {
   "cell_type": "code",
   "execution_count": 72,
   "id": "a3f734b8-4780-4319-ad65-d037fe7663dc",
   "metadata": {},
   "outputs": [
    {
     "data": {
      "application/json": {
       "ascii": false,
       "bar_format": null,
       "colour": null,
       "elapsed": 0.011967897415161133,
       "initial": 0,
       "n": 0,
       "ncols": null,
       "nrows": 49,
       "postfix": null,
       "prefix": "",
       "rate": null,
       "total": 6,
       "unit": "it",
       "unit_divisor": 1000,
       "unit_scale": false
      },
      "application/vnd.jupyter.widget-view+json": {
       "model_id": "2b495e2813634b7d98deba3438e15afd",
       "version_major": 2,
       "version_minor": 0
      },
      "text/plain": [
       "  0%|          | 0/6 [00:00<?, ?it/s]"
      ]
     },
     "metadata": {},
     "output_type": "display_data"
    },
    {
     "name": "stdout",
     "output_type": "stream",
     "text": [
      "RF Done!| 소요시간: 15.5529sec\n",
      "ET Done!| 소요시간: 4.0741sec\n",
      "LGBM Done!| 소요시간: 0.1835sec\n",
      "XGB Done!| 소요시간: 0.7709sec\n",
      "GB Done!| 소요시간: 2.6350sec\n",
      "CAT Done!| 소요시간: 5.0036sec\n"
     ]
    }
   ],
   "source": [
    "pred_dict = {}\n",
    "for name_, model_ in tqdm(model_dict.items()):\n",
    "    start_time = time.time()\n",
    "    model_fit = model_.fit(st_train_X[corr_idx], pred_proba)\n",
    "    pred = model_fit.predict(st_valid_X[corr_idx])\n",
    "    pred_dict[name_] = pred\n",
    "    print(\"%s Done!| 소요시간: %.4fsec\"% (name_, time.time()-start_time))"
   ]
  },
  {
   "cell_type": "markdown",
   "id": "64901b88-261b-491d-b291-7eb5bd3499e1",
   "metadata": {},
   "source": [
    "### **_Ensemble result**"
   ]
  },
  {
   "cell_type": "code",
   "execution_count": 73,
   "id": "6ee48647-1283-4824-953a-17358c80b66e",
   "metadata": {},
   "outputs": [],
   "source": [
    "def ensemble_result(pred_dict, true_y = valid_y, ascending = True):\n",
    "    import itertools\n",
    "\n",
    "    ensemble_dict = {}\n",
    "    arr_name = pred_dict.keys()\n",
    "    arr_value = pred_dict.values()\n",
    "\n",
    "    for i in range(1, len(arr_name)+1):\n",
    "        ncr_name = list(itertools.combinations(arr_name, i))\n",
    "        ncr_value = list(itertools.combinations(arr_value, i))\n",
    "        for j in range(len(ncr_name)):\n",
    "            pred_ens = np.mean(list(ncr_value[j]), axis = 0)       \n",
    "            ensemble_dict[ncr_name[j]] = list(pred_ens)\n",
    "\n",
    "    return ensemble_dict"
   ]
  },
  {
   "cell_type": "code",
   "execution_count": 74,
   "id": "946dae5c-0694-4f98-b54d-0ec1cc38b472",
   "metadata": {},
   "outputs": [],
   "source": [
    "ensemble_dict = ensemble_result(pred_dict)"
   ]
  },
  {
   "cell_type": "markdown",
   "id": "adjustable-budapest",
   "metadata": {},
   "source": [
    "### **__모델별 최적의 Threshold**"
   ]
  },
  {
   "cell_type": "code",
   "execution_count": 75,
   "id": "b4b8d9a6-19e3-4100-b750-18d9b5949160",
   "metadata": {},
   "outputs": [
    {
     "data": {
      "application/json": {
       "ascii": false,
       "bar_format": null,
       "colour": null,
       "elapsed": 0.010969161987304688,
       "initial": 0,
       "n": 0,
       "ncols": null,
       "nrows": 49,
       "postfix": null,
       "prefix": "",
       "rate": null,
       "total": 1000,
       "unit": "it",
       "unit_divisor": 1000,
       "unit_scale": false
      },
      "application/vnd.jupyter.widget-view+json": {
       "model_id": "3f934c30c7c74b65806b14b6388d2d23",
       "version_major": 2,
       "version_minor": 0
      },
      "text/plain": [
       "  0%|          | 0/1000 [00:00<?, ?it/s]"
      ]
     },
     "metadata": {},
     "output_type": "display_data"
    }
   ],
   "source": [
    "threshold_dict = {}\n",
    "\n",
    "for th in tqdm(range(0, 1000)) :\n",
    "    threshold = np.round(th/1000, 3)\n",
    "  \n",
    "    for name, pred in ensemble_dict.items() :\n",
    "        pred_01 = np.select([pred >= threshold], [1], 0)\n",
    "        threshold_dict[str(name) + str(threshold)] = np.round(f1_score(valid_y, pred_01, average = \"macro\"), 5)"
   ]
  },
  {
   "cell_type": "code",
   "execution_count": 76,
   "id": "a5b03255-7e70-432c-b939-86869deb664e",
   "metadata": {},
   "outputs": [
    {
     "data": {
      "text/html": [
       "<div>\n",
       "<style scoped>\n",
       "    .dataframe tbody tr th:only-of-type {\n",
       "        vertical-align: middle;\n",
       "    }\n",
       "\n",
       "    .dataframe tbody tr th {\n",
       "        vertical-align: top;\n",
       "    }\n",
       "\n",
       "    .dataframe thead th {\n",
       "        text-align: right;\n",
       "    }\n",
       "</style>\n",
       "<table border=\"1\" class=\"dataframe\">\n",
       "  <thead>\n",
       "    <tr style=\"text-align: right;\">\n",
       "      <th></th>\n",
       "      <th>F1 Score</th>\n",
       "    </tr>\n",
       "  </thead>\n",
       "  <tbody>\n",
       "    <tr>\n",
       "      <th>('ET', 'GB')0.161</th>\n",
       "      <td>0.57171</td>\n",
       "    </tr>\n",
       "    <tr>\n",
       "      <th>('ET', 'GB')0.163</th>\n",
       "      <td>0.57166</td>\n",
       "    </tr>\n",
       "    <tr>\n",
       "      <th>('ET', 'GB')0.177</th>\n",
       "      <td>0.57148</td>\n",
       "    </tr>\n",
       "    <tr>\n",
       "      <th>('ET', 'GB')0.176</th>\n",
       "      <td>0.57139</td>\n",
       "    </tr>\n",
       "    <tr>\n",
       "      <th>('ET', 'GB')0.16</th>\n",
       "      <td>0.57071</td>\n",
       "    </tr>\n",
       "  </tbody>\n",
       "</table>\n",
       "</div>"
      ],
      "text/plain": [
       "                   F1 Score\n",
       "('ET', 'GB')0.161   0.57171\n",
       "('ET', 'GB')0.163   0.57166\n",
       "('ET', 'GB')0.177   0.57148\n",
       "('ET', 'GB')0.176   0.57139\n",
       "('ET', 'GB')0.16    0.57071"
      ]
     },
     "execution_count": 76,
     "metadata": {},
     "output_type": "execute_result"
    }
   ],
   "source": [
    "result_df = pd.DataFrame.from_dict(threshold_dict, orient = \"index\")\n",
    "result_df.columns = [\"F1 Score\"]\n",
    "result_df.sort_values(by = \"F1 Score\", ascending = False, inplace = True)\n",
    "result_df.head()"
   ]
  },
  {
   "cell_type": "markdown",
   "id": "clean-accounting",
   "metadata": {},
   "source": [
    "# Submission\n",
    "- Validation 방법 그대로 적용"
   ]
  },
  {
   "cell_type": "markdown",
   "id": "b5c5f59e-d13a-4553-84c1-894bd167e1a6",
   "metadata": {},
   "source": [
    "## **_Test predict**"
   ]
  },
  {
   "cell_type": "code",
   "execution_count": 77,
   "id": "quiet-belfast",
   "metadata": {},
   "outputs": [],
   "source": [
    "TR_cat_oh = pd.get_dummies(use_train[cat_col].astype(str))\n",
    "TE_cat_oh = pd.get_dummies(test[cat_col].astype(str))\n",
    "TR_cat_oh.columns = [\"COMPONENT_ARBITRARY_0\", \"COMPONENT_ARBITRARY_1\", \"COMPONENT_ARBITRARY_2\", \"COMPONENT_ARBITRARY_3\"]\n",
    "TE_cat_oh.columns = [\"COMPONENT_ARBITRARY_0\", \"COMPONENT_ARBITRARY_1\", \"COMPONENT_ARBITRARY_2\", \"COMPONENT_ARBITRARY_3\"]"
   ]
  },
  {
   "cell_type": "code",
   "execution_count": 78,
   "id": "numerical-christopher",
   "metadata": {},
   "outputs": [
    {
     "name": "stdout",
     "output_type": "stream",
     "text": [
      "Index(['PQINDEX', 'MN', 'CO', 'CR', 'TI', 'FE', 'AG', 'ANONYMOUS_1', 'ZN',\n",
      "       'CU', 'NI', 'V', 'H2O', 'YEAR', 'MO', 'ANONYMOUS_2', 'V40'],\n",
      "      dtype='object')\n"
     ]
    },
    {
     "data": {
      "application/json": {
       "ascii": false,
       "bar_format": null,
       "colour": null,
       "elapsed": 0.011966705322265625,
       "initial": 0,
       "n": 0,
       "ncols": null,
       "nrows": 49,
       "postfix": null,
       "prefix": "",
       "rate": null,
       "total": 1,
       "unit": "it",
       "unit_divisor": 1000,
       "unit_scale": false
      },
      "application/vnd.jupyter.widget-view+json": {
       "model_id": "916fabce48524c6ebbf1a62072cc0f5d",
       "version_major": 2,
       "version_minor": 0
      },
      "text/plain": [
       "  0%|          | 0/1 [00:00<?, ?it/s]"
      ]
     },
     "metadata": {},
     "output_type": "display_data"
    },
    {
     "name": "stdout",
     "output_type": "stream",
     "text": [
      "(6041, 18)\n"
     ]
    }
   ],
   "source": [
    "use_train_ = use_train.copy()\n",
    "test_ = test[te_col]\n",
    "test_[\"S\"] = make_col([\"S\"], train_X = use_train_, valid_X_ = test_, tr_cat = TR_cat_oh, vd_cat = TE_cat_oh, training = False)\n",
    "print(test_.shape)"
   ]
  },
  {
   "cell_type": "code",
   "execution_count": 79,
   "id": "aquatic-broadcast",
   "metadata": {},
   "outputs": [],
   "source": [
    "### 표준화\n",
    "st_use_train_ = pd.DataFrame(StandardScaler().fit_transform(use_train_), columns = use_train_.columns)\n",
    "st_test_ = StandardScaler().fit_transform(test_[te_col])\n",
    "\n",
    "### Train에만 있는 변수를 PCA\n",
    "Pca = PCA(n_components = 5, random_state = 717).fit(st_use_train_[use_tr_col_])\n",
    "Pca_fit = Pca.transform(st_use_train_[use_tr_col_])\n",
    "\n",
    "use_train_[\"pca1\"] = Pca_fit[:,0]\n",
    "use_train_[\"pca2\"] = Pca_fit[:,1]\n",
    "use_train_[\"pca3\"] = Pca_fit[:,2]\n",
    "    \n",
    "\n",
    "### Test에만 있는 변수로 위 PCA 값을 생성\n",
    "Pca1_model = ExtraTreesRegressor(random_state = 717).fit(st_use_train_[te_col], Pca_fit[:,0])\n",
    "Pca2_model = ExtraTreesRegressor(random_state = 717).fit(st_use_train_[te_col], Pca_fit[:,1])\n",
    "Pca3_model = ExtraTreesRegressor(random_state = 717).fit(st_use_train_[te_col], Pca_fit[:,2])\n",
    "    \n",
    "test_[\"pca1\"] = Pca1_model.predict(st_test_)\n",
    "test_[\"pca2\"] = Pca2_model.predict(st_test_)\n",
    "test_[\"pca3\"] = Pca3_model.predict(st_test_)"
   ]
  },
  {
   "cell_type": "code",
   "execution_count": 80,
   "id": "mighty-kingdom",
   "metadata": {},
   "outputs": [],
   "source": [
    "use_train_[\"total_ppm\"] = use_train_[[\"AG\", \"CO\", \"CR\", \"CU\", \"FE\", \"MN\", \"MO\", \"NI\", \"TI\", \"V\", \"ZN\", \"H2O\"]].sum(axis = 1)\n",
    "test_[\"total_ppm\"] = test_[[\"AG\", \"CO\", \"CR\", \"CU\", \"FE\", \"MN\", \"MO\", \"NI\", \"TI\", \"V\", \"ZN\", \"H2O\"]].sum(axis = 1)\n",
    "\n",
    "use_train_[\"ANO1\"] = use_train_[\"ANONYMOUS_1\"] / use_train_[\"ANONYMOUS_2\"]\n",
    "test_[\"ANO1\"] = test_[\"ANONYMOUS_1\"] / test_[\"ANONYMOUS_2\"]"
   ]
  },
  {
   "cell_type": "code",
   "execution_count": 82,
   "id": "pending-matrix",
   "metadata": {},
   "outputs": [
    {
     "name": "stdout",
     "output_type": "stream",
     "text": [
      "0.99977\n"
     ]
    }
   ],
   "source": [
    "st_use_train_ = pd.concat([pd.DataFrame(StandardScaler().fit_transform(use_train_), columns = use_train_.columns), TR_cat_oh], axis = 1)\n",
    "\n",
    "Model_proba = RandomForestClassifier(random_state = 717, n_estimators = 100).fit(st_use_train_[use_col_], use_train_[\"Y_LABEL\"])\n",
    "Pred_proba = Model_proba.predict_proba(st_use_train_[use_col_])[:,1]\n",
    "\n",
    "print(np.round(f1_score(use_train_[\"Y_LABEL\"], np.round(Pred_proba, 0).astype(int), average = \"macro\"), 5)) "
   ]
  },
  {
   "cell_type": "code",
   "execution_count": 83,
   "id": "cosmetic-illness",
   "metadata": {},
   "outputs": [
    {
     "name": "stdout",
     "output_type": "stream",
     "text": [
      "변수 순서: ['YEAR', 'FE', 'NI', 'ANONYMOUS_1', 'PQINDEX', 'TI', 'MN', 'ANONYMOUS_2', 'S', 'CU', 'ZN', 'V40', 'V', 'total_ppm', 'AG', 'CR', 'CO', 'MO', 'H2O', 'COMPONENT_ARBITRARY_0', 'COMPONENT_ARBITRARY_1', 'COMPONENT_ARBITRARY_2', 'COMPONENT_ARBITRARY_3']\n"
     ]
    }
   ],
   "source": [
    "### 사용할 파생변수\n",
    "add_col = [\"S\", \"total_ppm\"]\n",
    "\n",
    "### 표준화\n",
    "st_use_train_ = pd.concat([pd.DataFrame(StandardScaler().fit_transform(use_train_), columns = use_train_.columns), TR_cat_oh], axis = 1)    \n",
    "std = StandardScaler().fit(use_train_[te_col + add_col])\n",
    "st_test_ = pd.concat([pd.DataFrame(std.transform(test_[te_col + add_col]), columns = te_col + add_col), TE_cat_oh], axis = 1)\n",
    "\n",
    "\n",
    "### 변수 순서를 pred_proba와 상관관계가 높은 순으로 배열\n",
    "corr_df = st_use_train_.loc[:,te_col + add_col]\n",
    "corr_df[\"proba\"] = Pred_proba\n",
    "corr_idx = list(np.abs(corr_df.corr().loc[\"proba\", :]).sort_values(ascending = False)[1:].index)\n",
    "corr_idx += list(TR_cat_oh.columns)\n",
    "print(\"변수 순서:\", corr_idx)"
   ]
  },
  {
   "cell_type": "code",
   "execution_count": 84,
   "id": "530ad79e-8487-46cc-8f9d-fb6f6ed2681f",
   "metadata": {},
   "outputs": [
    {
     "data": {
      "application/json": {
       "ascii": false,
       "bar_format": null,
       "colour": null,
       "elapsed": 0.005982398986816406,
       "initial": 0,
       "n": 0,
       "ncols": null,
       "nrows": 49,
       "postfix": null,
       "prefix": "",
       "rate": null,
       "total": 6,
       "unit": "it",
       "unit_divisor": 1000,
       "unit_scale": false
      },
      "application/vnd.jupyter.widget-view+json": {
       "model_id": "6397d66f709c472d8f93505e3abaf4cc",
       "version_major": 2,
       "version_minor": 0
      },
      "text/plain": [
       "  0%|          | 0/6 [00:00<?, ?it/s]"
      ]
     },
     "metadata": {},
     "output_type": "display_data"
    },
    {
     "name": "stdout",
     "output_type": "stream",
     "text": [
      "RF Done!| 소요시간: 24.1690sec\n",
      "ET Done!| 소요시간: 6.6353sec\n",
      "LGBM Done!| 소요시간: 0.2283sec\n",
      "XGB Done!| 소요시간: 1.0332sec\n",
      "GB Done!| 소요시간: 4.1011sec\n",
      "CAT Done!| 소요시간: 10.2315sec\n"
     ]
    }
   ],
   "source": [
    "Pred_dict = {}\n",
    "for name_, model_ in tqdm(model_dict.items()):\n",
    "    start_time = time.time()\n",
    "    model_fit = model_.fit(st_use_train_[corr_idx], Pred_proba)\n",
    "    Pred = model_fit.predict(st_test_[corr_idx])\n",
    "    Pred_dict[name_] = Pred\n",
    "    print(\"%s Done!| 소요시간: %.4fsec\"% (name_, time.time()-start_time))"
   ]
  },
  {
   "cell_type": "code",
   "execution_count": 85,
   "id": "7df868db-263a-41c4-8e7e-cdb8e7a3a16f",
   "metadata": {},
   "outputs": [
    {
     "name": "stdout",
     "output_type": "stream",
     "text": [
      "                   F1 Score\n",
      "('ET', 'GB')0.161   0.57171\n",
      "('ET', 'GB')0.163   0.57166\n",
      "('ET', 'GB')0.177   0.57148\n",
      "('ET', 'GB')0.176   0.57139\n",
      "('ET', 'GB')0.16    0.57071\n"
     ]
    }
   ],
   "source": [
    "print(result_df.head())"
   ]
  },
  {
   "cell_type": "code",
   "execution_count": 86,
   "id": "banner-value",
   "metadata": {},
   "outputs": [],
   "source": [
    "Pred = (Pred_dict[\"ET\"] + Pred_dict[\"GB\"]) / 2\n",
    "Pred = np.select([Pred >= 0.161], [1], 0)"
   ]
  },
  {
   "cell_type": "markdown",
   "id": "3d58a3c4-2ec5-4c2a-b583-bee807758a79",
   "metadata": {},
   "source": [
    "## **_Submission**"
   ]
  },
  {
   "cell_type": "code",
   "execution_count": 87,
   "id": "civilian-explanation",
   "metadata": {},
   "outputs": [],
   "source": [
    "sample_submission = pd.read_csv('../OUT/sample_submission.csv')"
   ]
  },
  {
   "cell_type": "code",
   "execution_count": 88,
   "id": "nuclear-environment",
   "metadata": {},
   "outputs": [
    {
     "data": {
      "text/html": [
       "<div>\n",
       "<style scoped>\n",
       "    .dataframe tbody tr th:only-of-type {\n",
       "        vertical-align: middle;\n",
       "    }\n",
       "\n",
       "    .dataframe tbody tr th {\n",
       "        vertical-align: top;\n",
       "    }\n",
       "\n",
       "    .dataframe thead th {\n",
       "        text-align: right;\n",
       "    }\n",
       "</style>\n",
       "<table border=\"1\" class=\"dataframe\">\n",
       "  <thead>\n",
       "    <tr style=\"text-align: right;\">\n",
       "      <th></th>\n",
       "      <th>ID</th>\n",
       "      <th>Y_LABEL</th>\n",
       "    </tr>\n",
       "  </thead>\n",
       "  <tbody>\n",
       "    <tr>\n",
       "      <th>0</th>\n",
       "      <td>TEST_0000</td>\n",
       "      <td>0</td>\n",
       "    </tr>\n",
       "    <tr>\n",
       "      <th>1</th>\n",
       "      <td>TEST_0001</td>\n",
       "      <td>0</td>\n",
       "    </tr>\n",
       "    <tr>\n",
       "      <th>2</th>\n",
       "      <td>TEST_0002</td>\n",
       "      <td>0</td>\n",
       "    </tr>\n",
       "    <tr>\n",
       "      <th>3</th>\n",
       "      <td>TEST_0003</td>\n",
       "      <td>0</td>\n",
       "    </tr>\n",
       "    <tr>\n",
       "      <th>4</th>\n",
       "      <td>TEST_0004</td>\n",
       "      <td>0</td>\n",
       "    </tr>\n",
       "  </tbody>\n",
       "</table>\n",
       "</div>"
      ],
      "text/plain": [
       "          ID  Y_LABEL\n",
       "0  TEST_0000        0\n",
       "1  TEST_0001        0\n",
       "2  TEST_0002        0\n",
       "3  TEST_0003        0\n",
       "4  TEST_0004        0"
      ]
     },
     "execution_count": 88,
     "metadata": {},
     "output_type": "execute_result"
    }
   ],
   "source": [
    "sample_submission['Y_LABEL'] = Pred\n",
    "sample_submission.head()"
   ]
  },
  {
   "cell_type": "code",
   "execution_count": 89,
   "id": "lovely-teacher",
   "metadata": {},
   "outputs": [
    {
     "data": {
      "text/plain": [
       "801"
      ]
     },
     "execution_count": 89,
     "metadata": {},
     "output_type": "execute_result"
    }
   ],
   "source": [
    "sample_submission[\"Y_LABEL\"].sum()"
   ]
  },
  {
   "cell_type": "code",
   "execution_count": 91,
   "id": "fantastic-latvia",
   "metadata": {},
   "outputs": [],
   "source": [
    "# sample_submission.to_csv(\"../OUT/\"+ str(datetime.today())[:10] + \" Final submission.csv\", index = False)"
   ]
  },
  {
   "cell_type": "code",
   "execution_count": null,
   "id": "minute-charleston",
   "metadata": {},
   "outputs": [],
   "source": []
  }
 ],
 "metadata": {
  "kernelspec": {
   "display_name": "Python 3 (ipykernel)",
   "language": "python",
   "name": "python3"
  },
  "language_info": {
   "codemirror_mode": {
    "name": "ipython",
    "version": 3
   },
   "file_extension": ".py",
   "mimetype": "text/x-python",
   "name": "python",
   "nbconvert_exporter": "python",
   "pygments_lexer": "ipython3",
   "version": "3.8.7"
  }
 },
 "nbformat": 4,
 "nbformat_minor": 5
}
